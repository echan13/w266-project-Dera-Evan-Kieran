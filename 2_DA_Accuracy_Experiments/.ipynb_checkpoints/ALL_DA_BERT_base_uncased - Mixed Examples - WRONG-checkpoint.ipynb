{
 "cells": [
  {
   "cell_type": "markdown",
   "metadata": {
    "id": "3KSqG-xgDLRI"
   },
   "source": [
    "### Synonym Replacement - BERT Base Uncased\n",
    "\n",
    "#### Get Original Paper Data"
   ]
  },
  {
   "cell_type": "code",
   "execution_count": 1,
   "metadata": {
    "executionInfo": {
     "elapsed": 283,
     "status": "ok",
     "timestamp": 1646721905242,
     "user": {
      "displayName": "Evan Chan",
      "photoUrl": "https://lh3.googleusercontent.com/a-/AOh14GgGKtlehGoFssPGs4v0Yns-qfVPjW1FuloVAn-GMw=s64",
      "userId": "16754265128573798261"
     },
     "user_tz": 360
    },
    "id": "y6DHMdiyDSTl"
   },
   "outputs": [],
   "source": [
    "# !pip install sklearn\n",
    "# !pip install ekphrasis\n",
    "# !pip install transformers\n",
    "# !pip install spacy\n",
    "# !python -m spacy download en_core_web_sm"
   ]
  },
  {
   "cell_type": "code",
   "execution_count": 2,
   "metadata": {},
   "outputs": [],
   "source": [
    "from sklearn.preprocessing import LabelEncoder\n",
    "from sklearn.model_selection import train_test_split\n",
    "\n",
    "import numpy as np\n",
    "import pandas as pd\n",
    "import tensorflow as tf\n",
    "import tensorflow_datasets as tfds\n",
    "\n",
    "import transformers\n",
    "\n",
    "from transformers import BertTokenizer, TFBertModel\n",
    "from tensorflow.keras import backend as K\n",
    "from tensorflow import keras\n",
    "\n",
    "from sklearn.metrics import accuracy_score\n",
    "from sklearn.metrics import f1_score\n",
    "from sklearn.metrics import roc_auc_score\n",
    "\n",
    "import logging\n",
    "tf.get_logger().setLevel(logging.ERROR)"
   ]
  },
  {
   "cell_type": "code",
   "execution_count": 3,
   "metadata": {},
   "outputs": [
    {
     "data": {
      "text/plain": [
       "[PhysicalDevice(name='/physical_device:GPU:0', device_type='GPU')]"
      ]
     },
     "execution_count": 3,
     "metadata": {},
     "output_type": "execute_result"
    }
   ],
   "source": [
    "tf.config.list_physical_devices('GPU')"
   ]
  },
  {
   "cell_type": "code",
   "execution_count": 4,
   "metadata": {
    "executionInfo": {
     "elapsed": 5,
     "status": "ok",
     "timestamp": 1646721905243,
     "user": {
      "displayName": "Evan Chan",
      "photoUrl": "https://lh3.googleusercontent.com/a-/AOh14GgGKtlehGoFssPGs4v0Yns-qfVPjW1FuloVAn-GMw=s64",
      "userId": "16754265128573798261"
     },
     "user_tz": 360
    },
    "id": "X-o7OyjjDYwr"
   },
   "outputs": [],
   "source": [
    "encoder = LabelEncoder()\n",
    "encoder.classes_ = np.load('../Data/classes.npy', allow_pickle=True)"
   ]
  },
  {
   "cell_type": "code",
   "execution_count": 5,
   "metadata": {},
   "outputs": [
    {
     "data": {
      "text/plain": [
       "'2.6.0'"
      ]
     },
     "execution_count": 5,
     "metadata": {},
     "output_type": "execute_result"
    }
   ],
   "source": [
    "tf.__version__"
   ]
  },
  {
   "cell_type": "code",
   "execution_count": 6,
   "metadata": {},
   "outputs": [
    {
     "data": {
      "text/plain": [
       "'4.16.2'"
      ]
     },
     "execution_count": 6,
     "metadata": {},
     "output_type": "execute_result"
    }
   ],
   "source": [
    "transformers.__version__"
   ]
  },
  {
   "cell_type": "code",
   "execution_count": 7,
   "metadata": {},
   "outputs": [],
   "source": [
    "# set random seed\n",
    "\n",
    "import random\n",
    "\n",
    "random.seed(42)"
   ]
  },
  {
   "cell_type": "code",
   "execution_count": 8,
   "metadata": {
    "executionInfo": {
     "elapsed": 8,
     "status": "ok",
     "timestamp": 1646721916193,
     "user": {
      "displayName": "Evan Chan",
      "photoUrl": "https://lh3.googleusercontent.com/a-/AOh14GgGKtlehGoFssPGs4v0Yns-qfVPjW1FuloVAn-GMw=s64",
      "userId": "16754265128573798261"
     },
     "user_tz": 360
    },
    "id": "zOn6K2RgJBkA"
   },
   "outputs": [
    {
     "name": "stderr",
     "output_type": "stream",
     "text": [
      "C:\\Users\\evanc\\anaconda3\\envs\\tf-gpu\\lib\\site-packages\\ekphrasis\\classes\\tokenizer.py:225: FutureWarning: Possible nested set at position 2190\n",
      "  self.tok = re.compile(r\"({})\".format(\"|\".join(pipeline)))\n"
     ]
    },
    {
     "name": "stdout",
     "output_type": "stream",
     "text": [
      "Reading twitter - 1grams ...\n",
      "Reading twitter - 2grams ...\n"
     ]
    },
    {
     "name": "stderr",
     "output_type": "stream",
     "text": [
      "C:\\Users\\evanc\\anaconda3\\envs\\tf-gpu\\lib\\site-packages\\ekphrasis\\classes\\exmanager.py:14: FutureWarning: Possible nested set at position 42\n",
      "  regexes = {k.lower(): re.compile(self.expressions[k]) for k, v in\n"
     ]
    },
    {
     "name": "stdout",
     "output_type": "stream",
     "text": [
      "Reading english - 1grams ...\n"
     ]
    }
   ],
   "source": [
    "import sys\n",
    "\n",
    "sys.path.append('../Preprocess')\n",
    "\n",
    "from dataCollect import *"
   ]
  },
  {
   "cell_type": "code",
   "execution_count": 9,
   "metadata": {
    "executionInfo": {
     "elapsed": 2005,
     "status": "ok",
     "timestamp": 1646722287248,
     "user": {
      "displayName": "Evan Chan",
      "photoUrl": "https://lh3.googleusercontent.com/a-/AOh14GgGKtlehGoFssPGs4v0Yns-qfVPjW1FuloVAn-GMw=s64",
      "userId": "16754265128573798261"
     },
     "user_tz": 360
    },
    "id": "wr-vv22ZMhT-"
   },
   "outputs": [
    {
     "data": {
      "text/html": [
       "<div>\n",
       "<style scoped>\n",
       "    .dataframe tbody tr th:only-of-type {\n",
       "        vertical-align: middle;\n",
       "    }\n",
       "\n",
       "    .dataframe tbody tr th {\n",
       "        vertical-align: top;\n",
       "    }\n",
       "\n",
       "    .dataframe thead th {\n",
       "        text-align: right;\n",
       "    }\n",
       "</style>\n",
       "<table border=\"1\" class=\"dataframe\">\n",
       "  <thead>\n",
       "    <tr style=\"text-align: right;\">\n",
       "      <th></th>\n",
       "      <th>post_id</th>\n",
       "      <th>text</th>\n",
       "      <th>annotatorid1</th>\n",
       "      <th>target1</th>\n",
       "      <th>label1</th>\n",
       "      <th>annotatorid2</th>\n",
       "      <th>target2</th>\n",
       "      <th>label2</th>\n",
       "      <th>annotatorid3</th>\n",
       "      <th>target3</th>\n",
       "      <th>label3</th>\n",
       "      <th>rationales</th>\n",
       "      <th>final_label</th>\n",
       "    </tr>\n",
       "  </thead>\n",
       "  <tbody>\n",
       "    <tr>\n",
       "      <th>0</th>\n",
       "      <td>1179055004553900032_twitter</td>\n",
       "      <td>[i, dont, think, im, getting, my, baby, them, ...</td>\n",
       "      <td>1</td>\n",
       "      <td>[None]</td>\n",
       "      <td>normal</td>\n",
       "      <td>2</td>\n",
       "      <td>[None]</td>\n",
       "      <td>normal</td>\n",
       "      <td>3</td>\n",
       "      <td>[None]</td>\n",
       "      <td>normal</td>\n",
       "      <td>[]</td>\n",
       "      <td>normal</td>\n",
       "    </tr>\n",
       "    <tr>\n",
       "      <th>1</th>\n",
       "      <td>1179063826874032128_twitter</td>\n",
       "      <td>[we, cannot, continue, calling, ourselves, fem...</td>\n",
       "      <td>1</td>\n",
       "      <td>[None]</td>\n",
       "      <td>normal</td>\n",
       "      <td>2</td>\n",
       "      <td>[None]</td>\n",
       "      <td>normal</td>\n",
       "      <td>3</td>\n",
       "      <td>[None]</td>\n",
       "      <td>normal</td>\n",
       "      <td>[]</td>\n",
       "      <td>normal</td>\n",
       "    </tr>\n",
       "    <tr>\n",
       "      <th>2</th>\n",
       "      <td>1178793830532956161_twitter</td>\n",
       "      <td>[nawt, yall, niggers, ignoring, me]</td>\n",
       "      <td>4</td>\n",
       "      <td>[African]</td>\n",
       "      <td>normal</td>\n",
       "      <td>2</td>\n",
       "      <td>[None]</td>\n",
       "      <td>normal</td>\n",
       "      <td>3</td>\n",
       "      <td>[African]</td>\n",
       "      <td>hatespeech</td>\n",
       "      <td>[]</td>\n",
       "      <td>normal</td>\n",
       "    </tr>\n",
       "    <tr>\n",
       "      <th>3</th>\n",
       "      <td>1179088797964763136_twitter</td>\n",
       "      <td>[&lt;user&gt;, i, am, bit, confused, coz, chinese, p...</td>\n",
       "      <td>1</td>\n",
       "      <td>[Asian]</td>\n",
       "      <td>hatespeech</td>\n",
       "      <td>4</td>\n",
       "      <td>[Asian]</td>\n",
       "      <td>offensive</td>\n",
       "      <td>3</td>\n",
       "      <td>[Asian]</td>\n",
       "      <td>hatespeech</td>\n",
       "      <td>[[0, 0, 0, 0, 0, 0, 0, 0, 0, 0, 0, 0, 0, 0, 0,...</td>\n",
       "      <td>hatespeech</td>\n",
       "    </tr>\n",
       "    <tr>\n",
       "      <th>4</th>\n",
       "      <td>1179085312976445440_twitter</td>\n",
       "      <td>[this, bitch, in, whataburger, eating, a, burg...</td>\n",
       "      <td>4</td>\n",
       "      <td>[Caucasian, Women]</td>\n",
       "      <td>hatespeech</td>\n",
       "      <td>2</td>\n",
       "      <td>[Women, Caucasian]</td>\n",
       "      <td>hatespeech</td>\n",
       "      <td>3</td>\n",
       "      <td>[Women, Caucasian]</td>\n",
       "      <td>offensive</td>\n",
       "      <td>[[0, 1, 0, 0, 0, 0, 0, 0, 0, 0, 0, 0, 0, 0, 0,...</td>\n",
       "      <td>hatespeech</td>\n",
       "    </tr>\n",
       "    <tr>\n",
       "      <th>...</th>\n",
       "      <td>...</td>\n",
       "      <td>...</td>\n",
       "      <td>...</td>\n",
       "      <td>...</td>\n",
       "      <td>...</td>\n",
       "      <td>...</td>\n",
       "      <td>...</td>\n",
       "      <td>...</td>\n",
       "      <td>...</td>\n",
       "      <td>...</td>\n",
       "      <td>...</td>\n",
       "      <td>...</td>\n",
       "      <td>...</td>\n",
       "    </tr>\n",
       "    <tr>\n",
       "      <th>20143</th>\n",
       "      <td>9989999_gab</td>\n",
       "      <td>[if, ur, still, on, twitter, tell, carlton, i,...</td>\n",
       "      <td>217</td>\n",
       "      <td>[Men, Women, Other]</td>\n",
       "      <td>offensive</td>\n",
       "      <td>199</td>\n",
       "      <td>[None]</td>\n",
       "      <td>offensive</td>\n",
       "      <td>215</td>\n",
       "      <td>[None]</td>\n",
       "      <td>normal</td>\n",
       "      <td>[[0, 0, 0, 0, 0, 0, 0, 0, 0, 0, 1, 1, 1, 1, 0,...</td>\n",
       "      <td>offensive</td>\n",
       "    </tr>\n",
       "    <tr>\n",
       "      <th>20144</th>\n",
       "      <td>9990225_gab</td>\n",
       "      <td>[when, i, first, got, on, here, and, said, i, ...</td>\n",
       "      <td>220</td>\n",
       "      <td>[African]</td>\n",
       "      <td>offensive</td>\n",
       "      <td>223</td>\n",
       "      <td>[African, Other]</td>\n",
       "      <td>offensive</td>\n",
       "      <td>231</td>\n",
       "      <td>[None]</td>\n",
       "      <td>normal</td>\n",
       "      <td>[[0, 0, 0, 0, 0, 0, 0, 0, 1, 1, 1, 1, 1, 0, 0,...</td>\n",
       "      <td>offensive</td>\n",
       "    </tr>\n",
       "    <tr>\n",
       "      <th>20145</th>\n",
       "      <td>9991681_gab</td>\n",
       "      <td>[was, macht, der, moslem, wenn, der, zion, geg...</td>\n",
       "      <td>206</td>\n",
       "      <td>[Islam]</td>\n",
       "      <td>offensive</td>\n",
       "      <td>203</td>\n",
       "      <td>[Other]</td>\n",
       "      <td>normal</td>\n",
       "      <td>211</td>\n",
       "      <td>[None]</td>\n",
       "      <td>normal</td>\n",
       "      <td>[]</td>\n",
       "      <td>normal</td>\n",
       "    </tr>\n",
       "    <tr>\n",
       "      <th>20146</th>\n",
       "      <td>9992513_gab</td>\n",
       "      <td>[it, is, awful, look, at, world, demographics,...</td>\n",
       "      <td>209</td>\n",
       "      <td>[Hispanic]</td>\n",
       "      <td>hatespeech</td>\n",
       "      <td>253</td>\n",
       "      <td>[Asian]</td>\n",
       "      <td>hatespeech</td>\n",
       "      <td>222</td>\n",
       "      <td>[Asian]</td>\n",
       "      <td>offensive</td>\n",
       "      <td>[[0, 0, 0, 0, 0, 0, 0, 1, 1, 1, 1, 0, 0, 1, 1,...</td>\n",
       "      <td>hatespeech</td>\n",
       "    </tr>\n",
       "    <tr>\n",
       "      <th>20147</th>\n",
       "      <td>9998729_gab</td>\n",
       "      <td>[the, jewish, globalist, elite, have, only, im...</td>\n",
       "      <td>200</td>\n",
       "      <td>[African, Islam]</td>\n",
       "      <td>hatespeech</td>\n",
       "      <td>202</td>\n",
       "      <td>[Islam, Jewish]</td>\n",
       "      <td>offensive</td>\n",
       "      <td>207</td>\n",
       "      <td>[African, Islam, Jewish]</td>\n",
       "      <td>offensive</td>\n",
       "      <td>[[0, 0, 0, 0, 0, 0, 0, 0, 1, 1, 1, 1, 1, 0, 0,...</td>\n",
       "      <td>offensive</td>\n",
       "    </tr>\n",
       "  </tbody>\n",
       "</table>\n",
       "<p>20148 rows × 13 columns</p>\n",
       "</div>"
      ],
      "text/plain": [
       "                           post_id  \\\n",
       "0      1179055004553900032_twitter   \n",
       "1      1179063826874032128_twitter   \n",
       "2      1178793830532956161_twitter   \n",
       "3      1179088797964763136_twitter   \n",
       "4      1179085312976445440_twitter   \n",
       "...                            ...   \n",
       "20143                  9989999_gab   \n",
       "20144                  9990225_gab   \n",
       "20145                  9991681_gab   \n",
       "20146                  9992513_gab   \n",
       "20147                  9998729_gab   \n",
       "\n",
       "                                                    text  annotatorid1  \\\n",
       "0      [i, dont, think, im, getting, my, baby, them, ...             1   \n",
       "1      [we, cannot, continue, calling, ourselves, fem...             1   \n",
       "2                    [nawt, yall, niggers, ignoring, me]             4   \n",
       "3      [<user>, i, am, bit, confused, coz, chinese, p...             1   \n",
       "4      [this, bitch, in, whataburger, eating, a, burg...             4   \n",
       "...                                                  ...           ...   \n",
       "20143  [if, ur, still, on, twitter, tell, carlton, i,...           217   \n",
       "20144  [when, i, first, got, on, here, and, said, i, ...           220   \n",
       "20145  [was, macht, der, moslem, wenn, der, zion, geg...           206   \n",
       "20146  [it, is, awful, look, at, world, demographics,...           209   \n",
       "20147  [the, jewish, globalist, elite, have, only, im...           200   \n",
       "\n",
       "                   target1      label1  annotatorid2             target2  \\\n",
       "0                   [None]      normal             2              [None]   \n",
       "1                   [None]      normal             2              [None]   \n",
       "2                [African]      normal             2              [None]   \n",
       "3                  [Asian]  hatespeech             4             [Asian]   \n",
       "4       [Caucasian, Women]  hatespeech             2  [Women, Caucasian]   \n",
       "...                    ...         ...           ...                 ...   \n",
       "20143  [Men, Women, Other]   offensive           199              [None]   \n",
       "20144            [African]   offensive           223    [African, Other]   \n",
       "20145              [Islam]   offensive           203             [Other]   \n",
       "20146           [Hispanic]  hatespeech           253             [Asian]   \n",
       "20147     [African, Islam]  hatespeech           202     [Islam, Jewish]   \n",
       "\n",
       "           label2  annotatorid3                   target3      label3  \\\n",
       "0          normal             3                    [None]      normal   \n",
       "1          normal             3                    [None]      normal   \n",
       "2          normal             3                 [African]  hatespeech   \n",
       "3       offensive             3                   [Asian]  hatespeech   \n",
       "4      hatespeech             3        [Women, Caucasian]   offensive   \n",
       "...           ...           ...                       ...         ...   \n",
       "20143   offensive           215                    [None]      normal   \n",
       "20144   offensive           231                    [None]      normal   \n",
       "20145      normal           211                    [None]      normal   \n",
       "20146  hatespeech           222                   [Asian]   offensive   \n",
       "20147   offensive           207  [African, Islam, Jewish]   offensive   \n",
       "\n",
       "                                              rationales final_label  \n",
       "0                                                     []      normal  \n",
       "1                                                     []      normal  \n",
       "2                                                     []      normal  \n",
       "3      [[0, 0, 0, 0, 0, 0, 0, 0, 0, 0, 0, 0, 0, 0, 0,...  hatespeech  \n",
       "4      [[0, 1, 0, 0, 0, 0, 0, 0, 0, 0, 0, 0, 0, 0, 0,...  hatespeech  \n",
       "...                                                  ...         ...  \n",
       "20143  [[0, 0, 0, 0, 0, 0, 0, 0, 0, 0, 1, 1, 1, 1, 0,...   offensive  \n",
       "20144  [[0, 0, 0, 0, 0, 0, 0, 0, 1, 1, 1, 1, 1, 0, 0,...   offensive  \n",
       "20145                                                 []      normal  \n",
       "20146  [[0, 0, 0, 0, 0, 0, 0, 1, 1, 1, 1, 0, 0, 1, 1,...  hatespeech  \n",
       "20147  [[0, 0, 0, 0, 0, 0, 0, 0, 1, 1, 1, 1, 1, 0, 0,...   offensive  \n",
       "\n",
       "[20148 rows x 13 columns]"
      ]
     },
     "execution_count": 9,
     "metadata": {},
     "output_type": "execute_result"
    }
   ],
   "source": [
    "params = {'data_file' : '../Data/dataset.json', 'class_names' : '../Data/classes.npy'}\n",
    "\n",
    "raw_data = get_annotated_data(params)\n",
    "\n",
    "raw_data"
   ]
  },
  {
   "cell_type": "code",
   "execution_count": 10,
   "metadata": {},
   "outputs": [],
   "source": [
    "def listToString(s): \n",
    "    \n",
    "    # initialize an empty string\n",
    "    str1 = \"\" \n",
    "    \n",
    "    # traverse in the string  \n",
    "    for ele in s: \n",
    "        str1 += ele\n",
    "        str1 += ' '\n",
    "    \n",
    "    # return string  \n",
    "    return str1 \n",
    "        "
   ]
  },
  {
   "cell_type": "code",
   "execution_count": 11,
   "metadata": {
    "colab": {
     "base_uri": "https://localhost:8080/",
     "height": 432
    },
    "executionInfo": {
     "elapsed": 94730,
     "status": "error",
     "timestamp": 1646723548881,
     "user": {
      "displayName": "Evan Chan",
      "photoUrl": "https://lh3.googleusercontent.com/a-/AOh14GgGKtlehGoFssPGs4v0Yns-qfVPjW1FuloVAn-GMw=s64",
      "userId": "16754265128573798261"
     },
     "user_tz": 360
    },
    "id": "-NPhLO0YTBaW",
    "outputId": "c38afa72-a95a-4624-b5fb-60c0ccb0e571"
   },
   "outputs": [],
   "source": [
    "# Select appropriate columns for original paper data\n",
    "# re-assemble token list to text\n",
    "\n",
    "raw_data_filtered = raw_data[raw_data['final_label'] != 'undecided']\n",
    "\n",
    "orig_text_token = raw_data_filtered['text']\n",
    "\n",
    "orig_text = [listToString(s) for s in orig_text_token]\n",
    "\n",
    "orig_labels = raw_data_filtered['final_label'].to_list()"
   ]
  },
  {
   "cell_type": "markdown",
   "metadata": {},
   "source": [
    "### Get Augmented Data"
   ]
  },
  {
   "cell_type": "code",
   "execution_count": 12,
   "metadata": {},
   "outputs": [
    {
     "data": {
      "text/html": [
       "<div>\n",
       "<style scoped>\n",
       "    .dataframe tbody tr th:only-of-type {\n",
       "        vertical-align: middle;\n",
       "    }\n",
       "\n",
       "    .dataframe tbody tr th {\n",
       "        vertical-align: top;\n",
       "    }\n",
       "\n",
       "    .dataframe thead th {\n",
       "        text-align: right;\n",
       "    }\n",
       "</style>\n",
       "<table border=\"1\" class=\"dataframe\">\n",
       "  <thead>\n",
       "    <tr style=\"text-align: right;\">\n",
       "      <th></th>\n",
       "      <th>Unnamed: 0</th>\n",
       "      <th>post_id</th>\n",
       "      <th>text_str</th>\n",
       "      <th>final_label</th>\n",
       "    </tr>\n",
       "  </thead>\n",
       "  <tbody>\n",
       "    <tr>\n",
       "      <th>0</th>\n",
       "      <td>0</td>\n",
       "      <td>1179055004553900032_twitter</td>\n",
       "      <td>i dont suppose im come my child them edward wh...</td>\n",
       "      <td>normal</td>\n",
       "    </tr>\n",
       "    <tr>\n",
       "      <th>1</th>\n",
       "      <td>1</td>\n",
       "      <td>1179055004553900032_twitter</td>\n",
       "      <td>i dont think im getting my baby them white he ...</td>\n",
       "      <td>normal</td>\n",
       "    </tr>\n",
       "    <tr>\n",
       "      <th>2</th>\n",
       "      <td>2</td>\n",
       "      <td>1179055004553900032_twitter</td>\n",
       "      <td>i think im getting my baby them white he has t...</td>\n",
       "      <td>normal</td>\n",
       "    </tr>\n",
       "    <tr>\n",
       "      <th>3</th>\n",
       "      <td>3</td>\n",
       "      <td>1179055004553900032_twitter</td>\n",
       "      <td>i dont think im getting my baby them j he has ...</td>\n",
       "      <td>normal</td>\n",
       "    </tr>\n",
       "    <tr>\n",
       "      <th>4</th>\n",
       "      <td>4</td>\n",
       "      <td>1179055004553900032_twitter</td>\n",
       "      <td>i dont think im getting my baby them white he ...</td>\n",
       "      <td>normal</td>\n",
       "    </tr>\n",
       "  </tbody>\n",
       "</table>\n",
       "</div>"
      ],
      "text/plain": [
       "   Unnamed: 0                      post_id  \\\n",
       "0           0  1179055004553900032_twitter   \n",
       "1           1  1179055004553900032_twitter   \n",
       "2           2  1179055004553900032_twitter   \n",
       "3           3  1179055004553900032_twitter   \n",
       "4           4  1179055004553900032_twitter   \n",
       "\n",
       "                                            text_str final_label  \n",
       "0  i dont suppose im come my child them edward wh...      normal  \n",
       "1  i dont think im getting my baby them white he ...      normal  \n",
       "2  i think im getting my baby them white he has t...      normal  \n",
       "3  i dont think im getting my baby them j he has ...      normal  \n",
       "4  i dont think im getting my baby them white he ...      normal  "
      ]
     },
     "execution_count": 12,
     "metadata": {},
     "output_type": "execute_result"
    }
   ],
   "source": [
    "# load augmented datasets generated by EDA\n",
    "# sr = synonym replacement\n",
    "# ri = random synonym insertion\n",
    "# rs = random swap\n",
    "# rd = random deletion\n",
    "# dataframe name format: method_number \n",
    "\n",
    "sr_1_df = pd.read_csv('../test_data_set/EDA_5_0_7_sr_rest_0_1.csv')\n",
    "ri_1_df = pd.read_csv('../test_data_set/EDA_5_0_7_ri_rest_0_1.csv')\n",
    "rs_1_df = pd.read_csv('../test_data_set/EDA_5_0_7_rs_rest_0_1.csv')\n",
    "rd_1_df = pd.read_csv('../test_data_set/EDA_5_0_7_rd_rest_0_1.csv')\n",
    "all_1_df = pd.read_csv('../test_data_set/EDA_5_all_0_1s.csv')\n",
    "all_5_df = pd.read_csv('../test_data_set/EDA_5_all_0_5s.csv')\n",
    "\n",
    "# remove undecided labeled examples\n",
    "sr_1_df_filtered = sr_1_df[sr_1_df['final_label'] != 'undecided']\n",
    "ri_1_df_filtered = ri_1_df[ri_1_df['final_label'] != 'undecided']\n",
    "rs_1_df_filtered = rs_1_df[rs_1_df['final_label'] != 'undecided']\n",
    "rd_1_df_filtered = rd_1_df[rd_1_df['final_label'] != 'undecided']\n",
    "all_1_df_filtered = all_1_df[all_1_df['final_label'] != 'undecided']\n",
    "all_5_df_filtered = all_5_df[all_5_df['final_label'] != 'undecided']\n",
    "\n",
    "sr_1_df_filtered.head()"
   ]
  },
  {
   "cell_type": "code",
   "execution_count": 13,
   "metadata": {},
   "outputs": [
    {
     "data": {
      "text/plain": [
       "115374"
      ]
     },
     "execution_count": 13,
     "metadata": {},
     "output_type": "execute_result"
    }
   ],
   "source": [
    "# select text sets\n",
    "\n",
    "aug_sr_text = sr_1_df_filtered['text_str'].to_list()\n",
    "aug_ri_text = ri_1_df_filtered['text_str'].to_list()\n",
    "aug_rs_text = rs_1_df_filtered['text_str'].to_list()\n",
    "aug_rd_text = rd_1_df_filtered['text_str'].to_list()\n",
    "aug_all_1_text = all_1_df_filtered['text_str'].to_list()\n",
    "aug_all_5_text = all_5_df_filtered['text_str'].to_list()\n",
    "\n",
    "# select label sets\n",
    "\n",
    "aug_sr_labels = sr_1_df_filtered['final_label'].to_list()\n",
    "aug_ri_labels = ri_1_df_filtered['final_label'].to_list()\n",
    "aug_rs_labels = rs_1_df_filtered['final_label'].to_list()\n",
    "aug_rd_labels = rd_1_df_filtered['final_label'].to_list()\n",
    "aug_all_1_labels = all_1_df_filtered['final_label'].to_list()\n",
    "aug_all_5_labels = all_5_df_filtered['final_label'].to_list()\n",
    "\n",
    "len(aug_sr_text)"
   ]
  },
  {
   "cell_type": "code",
   "execution_count": 14,
   "metadata": {},
   "outputs": [
    {
     "data": {
      "text/plain": [
       "134603"
      ]
     },
     "execution_count": 14,
     "metadata": {},
     "output_type": "execute_result"
    }
   ],
   "source": [
    "# combine with original data\n",
    "\n",
    "# leave in list format\n",
    "aug_sr_text = aug_sr_text + orig_text\n",
    "aug_ri_text = aug_ri_text + orig_text\n",
    "aug_rs_text = aug_rs_text + orig_text\n",
    "aug_rd_text = aug_rd_text + orig_text\n",
    "aug_all_1_text = aug_all_1_text + orig_text\n",
    "aug_all_5_text = aug_all_5_text + orig_text\n",
    "\n",
    "# in Series format\n",
    "aug_sr_labels = pd.Series(aug_sr_labels + orig_labels)\n",
    "aug_ri_labels = pd.Series(aug_ri_labels + orig_labels)\n",
    "aug_rs_labels = pd.Series(aug_rs_labels + orig_labels)\n",
    "aug_rd_labels = pd.Series(aug_rd_labels + orig_labels)\n",
    "aug_all_1_labels = pd.Series(aug_all_1_labels + orig_labels)\n",
    "aug_all_5_labels = pd.Series(aug_all_5_labels + orig_labels)\n",
    "\n",
    "len(aug_sr_text)"
   ]
  },
  {
   "cell_type": "markdown",
   "metadata": {},
   "source": [
    "#### Convert labels to one-hot encoding"
   ]
  },
  {
   "cell_type": "code",
   "execution_count": 15,
   "metadata": {},
   "outputs": [],
   "source": [
    "# convert class label to 1 hot encoding\n",
    "\n",
    "original_labels = pd.Series(orig_labels)\n",
    "\n",
    "\n",
    "def convert_to_oh(S):\n",
    "    '''takes a pandas series of text labels and returns one hot encoding equivalent\n",
    "    0 = normal, 1 = offensive, 2 = hatespeech\n",
    "    ''' \n",
    "    S_numerical = S.apply(lambda x: 0 if x=='normal' else (1 if x=='offensive' else 2))\n",
    "    S_oh = keras.utils.to_categorical(S_numerical, num_classes = 3, dtype = 'float32')\n",
    "    return S_oh\n",
    "    \n",
    "    \n",
    "# original dataset\n",
    "orig_labels_oh = convert_to_oh(original_labels)\n",
    "\n",
    "# augmented with sr = 0.1\n",
    "aug_sr_labels_oh = convert_to_oh(aug_sr_labels)\n",
    "\n",
    "# augmented with ri = 0.1\n",
    "aug_ri_labels_oh = convert_to_oh(aug_ri_labels)\n",
    "\n",
    "# augmented with rs = 0.1\n",
    "aug_rs_labels_oh = convert_to_oh(aug_rs_labels)\n",
    "\n",
    "# augmented with rd = 0.1\n",
    "aug_rd_labels_oh = convert_to_oh(aug_rd_labels)\n",
    "\n",
    "# augmented with all = 0.1\n",
    "aug_all_1_labels_oh = convert_to_oh(aug_all_1_labels)\n",
    "\n",
    "# augmented with all = 0.5\n",
    "aug_all_5_labels_oh = convert_to_oh(aug_all_5_labels)\n"
   ]
  },
  {
   "cell_type": "code",
   "execution_count": 16,
   "metadata": {},
   "outputs": [
    {
     "data": {
      "text/plain": [
       "134603"
      ]
     },
     "execution_count": 16,
     "metadata": {},
     "output_type": "execute_result"
    }
   ],
   "source": [
    "len(aug_ri_text)"
   ]
  },
  {
   "cell_type": "code",
   "execution_count": 17,
   "metadata": {},
   "outputs": [
    {
     "data": {
      "text/plain": [
       "134603"
      ]
     },
     "execution_count": 17,
     "metadata": {},
     "output_type": "execute_result"
    }
   ],
   "source": [
    "len(aug_ri_labels_oh)"
   ]
  },
  {
   "cell_type": "markdown",
   "metadata": {},
   "source": [
    "### Test Train Split on all"
   ]
  },
  {
   "cell_type": "code",
   "execution_count": 18,
   "metadata": {},
   "outputs": [],
   "source": [
    "# stratified test train split, return train, dev, and test sets\n",
    "\n",
    "def create_train_dev_test(text, labels, dev_size, test_size):\n",
    "    t = dev_size + test_size\n",
    "    r = dev_size/t\n",
    "    X_train, X_test, y_train, y_test = train_test_split(text, labels, test_size=t, stratify=labels)\n",
    "    X_dev, X_test, y_dev, y_test = train_test_split(X_test, y_test, test_size=0.5, stratify=y_test)\n",
    "    \n",
    "    return X_train, X_dev, X_test, y_train, y_dev, y_test"
   ]
  },
  {
   "cell_type": "code",
   "execution_count": 19,
   "metadata": {},
   "outputs": [],
   "source": [
    "# test train split, 80, 10, 10 (train, dev, test)\n",
    "\n",
    "# original dataset\n",
    "X_train_orig, X_dev_orig, X_test_orig, y_train_orig, y_dev_orig, y_test_orig = create_train_dev_test(orig_text, orig_labels_oh, 0.1, 0.1)\n",
    "\n",
    "# augmented with sr = 0.1\n",
    "X_train_aug_sr, X_dev_aug_sr, X_test_aug_sr, y_train_aug_sr, y_dev_aug_sr, y_test_aug_sr = create_train_dev_test(aug_sr_text, aug_sr_labels_oh, 0.1, 0.1)\n",
    "\n",
    "# augmented with ri = 0.1\n",
    "X_train_aug_ri, X_dev_aug_ri, X_test_aug_ri, y_train_aug_ri, y_dev_aug_ri, y_test_aug_ri = create_train_dev_test(aug_ri_text, aug_ri_labels_oh, 0.1, 0.1)\n",
    "\n",
    "# augmented with rs = 0.1\n",
    "X_train_aug_rs, X_dev_aug_rs, X_test_aug_rs, y_train_aug_rs, y_dev_aug_rs, y_test_aug_rs = create_train_dev_test(aug_rs_text, aug_rs_labels_oh, 0.1, 0.1)\n",
    "\n",
    "# augmented with rd = 0.1\n",
    "X_train_aug_rd, X_dev_aug_rd, X_test_aug_rd, y_train_aug_rd, y_dev_aug_rd, y_test_aug_rd = create_train_dev_test(aug_rd_text, aug_rd_labels_oh, 0.1, 0.1)\n",
    "\n",
    "# augmented with all = 0.1\n",
    "X_train_all_1, X_dev_all_1, X_test_all_1, y_train_all_1, y_dev_all_1, y_test_all_1 = create_train_dev_test(aug_all_1_text, aug_all_1_labels_oh, 0.1, 0.1)\n",
    "\n",
    "# augmented with all = 0.5\n",
    "X_train_all_5, X_dev_all_5, X_test_all_5, y_train_all_5, y_dev_all_5, y_test_all_5 = create_train_dev_test(aug_all_5_text, aug_all_5_labels_oh, 0.1, 0.1)"
   ]
  },
  {
   "cell_type": "code",
   "execution_count": 20,
   "metadata": {},
   "outputs": [
    {
     "name": "stdout",
     "output_type": "stream",
     "text": [
      "107682\n",
      "13460\n",
      "13461\n",
      "107682\n",
      "13460\n",
      "13461\n"
     ]
    }
   ],
   "source": [
    "print(len(X_train_all_1))\n",
    "print(len(X_dev_all_1))\n",
    "print(len(X_test_all_1))\n",
    "\n",
    "print(len(y_train_all_1))\n",
    "print(len(y_dev_all_1))\n",
    "print(len(y_test_all_1))"
   ]
  },
  {
   "cell_type": "code",
   "execution_count": 21,
   "metadata": {},
   "outputs": [],
   "source": [
    "tokenizer = BertTokenizer.from_pretrained('bert-base-uncased')\n",
    "#bert_model = TFBertModel.from_pretrained('bert-base-uncased')"
   ]
  },
  {
   "cell_type": "code",
   "execution_count": 22,
   "metadata": {},
   "outputs": [],
   "source": [
    "max_length = 128\n",
    "\n",
    "def bert_tokenize(train_set, dev_set, test_set, max_length):\n",
    "    \n",
    "    train = tokenizer(train_set, max_length=max_length, truncation=True, padding='max_length', return_tensors='tf')\n",
    "    dev = tokenizer(dev_set, max_length=max_length, truncation=True, padding='max_length', return_tensors='tf')\n",
    "    test = tokenizer(test_set, max_length=max_length, truncation=True, padding='max_length', return_tensors='tf')\n",
    "    \n",
    "    return train, dev, test\n",
    "\n",
    "X_train_orig, X_dev_orig, X_test_orig = bert_tokenize(X_train_orig, X_dev_orig, X_test_orig, max_length)\n",
    "\n",
    "X_train_aug_sr, X_dev_aug_sr, X_test_aug_sr = bert_tokenize(X_train_aug_sr, X_dev_aug_sr, X_test_aug_sr, max_length)\n",
    "\n",
    "X_train_aug_ri, X_dev_aug_ri, X_test_aug_ri = bert_tokenize(X_train_aug_ri, X_dev_aug_ri, X_test_aug_ri, max_length)\n",
    "\n",
    "X_train_aug_rs, X_dev_aug_rs, X_test_aug_rs = bert_tokenize(X_train_aug_rs, X_dev_aug_rs, X_test_aug_rs, max_length)\n",
    "\n",
    "X_train_aug_rd, X_dev_aug_rd, X_test_aug_rd = bert_tokenize(X_train_aug_rd, X_dev_aug_rd, X_test_aug_rd, max_length)\n",
    "\n",
    "X_train_all_1, X_dev_all_1, X_test_all_1 = bert_tokenize(X_train_all_1, X_dev_all_1, X_test_all_1, max_length)\n",
    "\n",
    "X_train_all_5, X_dev_all_5, X_test_all_5 = bert_tokenize(X_train_all_5, X_dev_all_5, X_test_all_5, max_length)\n",
    "\n",
    "# x_train = tokenizer(X_train, \n",
    "#               max_length=max_length,\n",
    "#               truncation=True,\n",
    "#               padding='max_length', \n",
    "#               return_tensors='tf')\n",
    "\n",
    "# x_test = tokenizer(X_test, \n",
    "#               max_length=max_length,\n",
    "#               truncation=True,\n",
    "#               padding='max_length', \n",
    "#               return_tensors='tf')\n",
    "\n",
    "# x_dev = tokenizer(X_dev, \n",
    "#               max_length=max_length,\n",
    "#               truncation=True,\n",
    "#               padding='max_length', \n",
    "#               return_tensors='tf')"
   ]
  },
  {
   "cell_type": "code",
   "execution_count": 23,
   "metadata": {},
   "outputs": [
    {
     "data": {
      "text/plain": [
       "dict_keys(['input_ids', 'token_type_ids', 'attention_mask'])"
      ]
     },
     "execution_count": 23,
     "metadata": {},
     "output_type": "execute_result"
    }
   ],
   "source": [
    "X_train_orig.keys()"
   ]
  },
  {
   "cell_type": "code",
   "execution_count": 24,
   "metadata": {},
   "outputs": [
    {
     "data": {
      "text/plain": [
       "<tf.Tensor: shape=(107682, 128), dtype=int32, numpy=\n",
       "array([[  101,  2125,  8239, ...,     0,     0,     0],\n",
       "       [  101,  2007,  2035, ...,     0,     0,     0],\n",
       "       [  101,  2561, 14636, ...,     0,     0,     0],\n",
       "       ...,\n",
       "       [  101,  5310,  2034, ...,     0,     0,     0],\n",
       "       [  101,  1026,  5310, ...,     0,     0,     0],\n",
       "       [  101,  2000,  1998, ...,     0,     0,     0]])>"
      ]
     },
     "execution_count": 24,
     "metadata": {},
     "output_type": "execute_result"
    }
   ],
   "source": [
    "X_train_aug_sr.input_ids"
   ]
  },
  {
   "cell_type": "code",
   "execution_count": 25,
   "metadata": {
    "colab": {
     "base_uri": "https://localhost:8080/"
    },
    "executionInfo": {
     "elapsed": 170,
     "status": "ok",
     "timestamp": 1646722395812,
     "user": {
      "displayName": "Evan Chan",
      "photoUrl": "https://lh3.googleusercontent.com/a-/AOh14GgGKtlehGoFssPGs4v0Yns-qfVPjW1FuloVAn-GMw=s64",
      "userId": "16754265128573798261"
     },
     "user_tz": 360
    },
    "id": "-OSiJNKUTYB5",
    "outputId": "3d0dbbf7-ab1f-4aec-84b4-77335d135479"
   },
   "outputs": [
    {
     "data": {
      "text/plain": [
       "<tf.Tensor: shape=(107682, 128), dtype=int32, numpy=\n",
       "array([[0, 0, 0, ..., 0, 0, 0],\n",
       "       [0, 0, 0, ..., 0, 0, 0],\n",
       "       [0, 0, 0, ..., 0, 0, 0],\n",
       "       ...,\n",
       "       [0, 0, 0, ..., 0, 0, 0],\n",
       "       [0, 0, 0, ..., 0, 0, 0],\n",
       "       [0, 0, 0, ..., 0, 0, 0]])>"
      ]
     },
     "execution_count": 25,
     "metadata": {},
     "output_type": "execute_result"
    }
   ],
   "source": [
    "X_train_aug_ri.token_type_ids"
   ]
  },
  {
   "cell_type": "code",
   "execution_count": 26,
   "metadata": {
    "colab": {
     "base_uri": "https://localhost:8080/",
     "height": 516,
     "referenced_widgets": [
      "12bf3b8f0bab4586847a07e8c438dafa",
      "8039ef2f59ee482781f325f5a91b93e8",
      "e67ba177d3744ea4bcc652774cd13abd",
      "43eb8a62436a4c149e25f98f49a7c68d",
      "3723a8c5f8eb47efa71e50a5ef924123",
      "9e9b4804607046678d3d132528486b0b",
      "e567a77fb29d47c98fe19c440b2d31e8",
      "5d2efc2c1758475c9d1cd51cdc7edf0a",
      "7942944ae43141c0aa83ec76fc0deafa",
      "c26d9b9e910a43febfd588927c3e7756",
      "1b1a083fc8e643a78f055105960b523e",
      "4656eb21ff2245b7be51f82c1e2c7e6b",
      "ab8f5f020c76459aad12d4cab6a36a72",
      "2af599ea5c3d4874aff863303c5b5703",
      "c64b940afcc94ee3b2b88c582b54d97f",
      "8a798f3e801d47df8771840991f7cfa3",
      "263134a33eaa4345926dd786256c08eb",
      "b473e96d36604d71ae5d3d8e69cc01c3",
      "3dfc3ee445f2403a8ed7b4e6f5a8b3d3",
      "e35113cc44f34a1fbb22f109f49f7bdd",
      "c4792815ec0d4591bcaea2e7a0539e6b",
      "047bcb706b304be09200793be7524708",
      "02d7e8c53bf94bf48c06cea9abbd9aba",
      "d57bc505733b4c738cf84db24feba360",
      "bf38f0560d3e493ca2b97fd974d00462",
      "8a60b779e7d749d284b791b9e5126a62",
      "2e51f1cad2b84893b537beb7e4ebf67c",
      "7d3ff64481b64406aadb34439d2ad02b",
      "feb0fac998144444bfd9373ce537bbc3",
      "70f68856bdb64c30aa57e6046468b3d6",
      "0c234fac6d10482089dacd2c03a5bbde",
      "b8b44bed109443fd9bba63a7039f3c93",
      "c3df12951362451685bea68b7091c69f",
      "7d77d8f8c129400d9f61b60da03891b3",
      "971c955528914b05afe5d12e9c626cf1",
      "98efd1135c4f438c8b8dd5c130cc667c",
      "9aca8f0c4013472c8514d2d57f9ea3e8",
      "807b39071d354a1ab7af51a05f1ef3b1",
      "acd4639a73904507b7884adc96512dc5",
      "b575b556bb9445ceb5c662b9d224e171",
      "f9a30d0d10744d14a47b500251c1973c",
      "d2803d4a8a794a83a2ebcf61ce3097ff",
      "5e02a09e9fe24718a8f1f4167c42d099",
      "fc6b1e6a0e254b82b6c7277f10a5d542",
      "071ca09b48bf4d9989852d66f8d57642",
      "15db3b4b336b41cdb973852bb3fef72f",
      "8aa487d37b284b2ba88903923a0086d9",
      "b3ba42a7365d418f9cbf7f68ede3b65a",
      "c7e4cea875eb41c8950f97350c237730",
      "e88a61936e0949c490366d0619869b6c",
      "ee76f1517ed64f4fa49d998d2448f9c2",
      "45b7612393254fe19709bdae7d7bbbe6",
      "d12cbe52662546d1be82cfd4536dfdfc",
      "ee89c9881c75441fbc9ec827d623134e",
      "d7abb004da9d42b787717cfdb3657f4e"
     ]
    },
    "executionInfo": {
     "elapsed": 19947,
     "status": "error",
     "timestamp": 1646722519680,
     "user": {
      "displayName": "Evan Chan",
      "photoUrl": "https://lh3.googleusercontent.com/a-/AOh14GgGKtlehGoFssPGs4v0Yns-qfVPjW1FuloVAn-GMw=s64",
      "userId": "16754265128573798261"
     },
     "user_tz": 360
    },
    "id": "DCaUJQymTWeJ",
    "outputId": "990e4e3f-4544-4c6c-ab2c-b365d72242af"
   },
   "outputs": [
    {
     "data": {
      "text/plain": [
       "<tf.Tensor: shape=(107682, 128), dtype=int32, numpy=\n",
       "array([[1, 1, 1, ..., 0, 0, 0],\n",
       "       [1, 1, 1, ..., 0, 0, 0],\n",
       "       [1, 1, 1, ..., 0, 0, 0],\n",
       "       ...,\n",
       "       [1, 1, 1, ..., 0, 0, 0],\n",
       "       [1, 1, 1, ..., 0, 0, 0],\n",
       "       [1, 1, 1, ..., 0, 0, 0]])>"
      ]
     },
     "execution_count": 26,
     "metadata": {},
     "output_type": "execute_result"
    }
   ],
   "source": [
    "X_train_all_1.attention_mask"
   ]
  },
  {
   "cell_type": "code",
   "execution_count": 27,
   "metadata": {},
   "outputs": [
    {
     "data": {
      "text/plain": [
       "<tf.Tensor: shape=(107682, 128), dtype=int32, numpy=\n",
       "array([[  101,  4797,  2010, ...,     0,     0,     0],\n",
       "       [  101,  1997,  3531, ...,     0,     0,     0],\n",
       "       [  101, 12170,  4246, ...,     0,     0,     0],\n",
       "       ...,\n",
       "       [  101,  9146,  2035, ...,     0,     0,     0],\n",
       "       [  101,  1998,  2017, ...,     0,     0,     0],\n",
       "       [  101,  1026,  5310, ...,     0,     0,     0]])>"
      ]
     },
     "execution_count": 27,
     "metadata": {},
     "output_type": "execute_result"
    }
   ],
   "source": [
    "X_train_all_5.input_ids"
   ]
  },
  {
   "cell_type": "code",
   "execution_count": 28,
   "metadata": {},
   "outputs": [],
   "source": [
    "def create_classification_model(bert_model, hidden_size = 5, \n",
    "                                train_layers = -1, \n",
    "                                optimizer=tf.keras.optimizers.Adam()):\n",
    "    \"\"\"\n",
    "    Build a simple classification model with BERT. Let's keep it simple and don't add dropout, layer norms, etc.\n",
    "    \"\"\"\n",
    "\n",
    "    input_ids = tf.keras.layers.Input(shape=(max_length,), dtype=tf.int32, name='input_ids_layer')\n",
    "    token_type_ids = tf.keras.layers.Input(shape=(max_length,), dtype=tf.int32, name='token_type_ids_layer')\n",
    "    attention_mask = tf.keras.layers.Input(shape=(max_length,), dtype=tf.int32, name='attention_mask_layer')\n",
    "\n",
    "    bert_inputs = {'input_ids': input_ids,\n",
    "                  'token_type_ids': token_type_ids,\n",
    "                  'attention_mask': attention_mask}\n",
    "\n",
    "\n",
    "    #restrict training to the train_layers outer transformer layers\n",
    "    if not train_layers == -1:\n",
    "\n",
    "            retrain_layers = []\n",
    "\n",
    "            for retrain_layer_number in range(train_layers):\n",
    "\n",
    "                layer_code = '_' + str(11 - retrain_layer_number)\n",
    "                retrain_layers.append(layer_code)\n",
    "\n",
    "            for w in bert_model.weights:\n",
    "                if not any([x in w.name for x in retrain_layers]):\n",
    "                    w._trainable = False\n",
    "\n",
    "\n",
    "    bert_out = bert_model(bert_inputs)\n",
    "    \n",
    "    net = bert_out[0]\n",
    "    \n",
    "    classification_token = tf.keras.layers.Lambda(lambda x: x[:,0,:], name='get_first_vector')(net)\n",
    "    \n",
    "    dropout1 = tf.keras.layers.Dropout(0.4, name=\"dropout1\")(classification_token)\n",
    "    \n",
    "    hidden = tf.keras.layers.Dense(hidden_size, name='hidden_layer')(dropout1)\n",
    "    \n",
    "    dropout2 = tf.keras.layers.Dropout(0.4, name=\"dropout2\")(hidden)\n",
    "\n",
    "    classification = tf.keras.layers.Dense(3, activation='sigmoid',name='classification_layer')(dropout2)\n",
    "\n",
    "    classification_model = tf.keras.Model(inputs=[input_ids, token_type_ids, attention_mask], \n",
    "                                          outputs=[classification])\n",
    "    \n",
    "    classification_model.compile(optimizer=optimizer,\n",
    "                            loss=tf.keras.losses.CategoricalCrossentropy(),\n",
    "                            metrics='Accuracy')\n",
    "\n",
    "\n",
    "    return classification_model\n",
    "\n",
    "\n",
    "\n",
    "\n",
    "#     classification_model.compile(optimizer=optimizer,\n",
    "#                             loss=tf.keras.losses.CategoricalCrossentropy(),\n",
    "#                             metrics=tf.keras.metrics.CategoricalAccuracy('accuracy'))"
   ]
  },
  {
   "cell_type": "code",
   "execution_count": 29,
   "metadata": {},
   "outputs": [],
   "source": [
    "def fine_tune_BERT(x_train, x_dev, x_test, y_train, y_dev, y_test, learning_rate = 5e-05, \n",
    "                   epsilon=1e-08, train_layers = -1, epochs = 10, batch_size = 16):\n",
    "    ''' Fine tunes BERT base uncased with given data, allows your to set some hyperparameters\n",
    "        returns test set accuracy, f1 score, and AUC_ROC score\n",
    "    '''\n",
    "    try:\n",
    "        del classification_model\n",
    "    except:\n",
    "        pass\n",
    "\n",
    "    try:\n",
    "        del bert_model\n",
    "    except:\n",
    "        pass\n",
    "    \n",
    "    tf.keras.backend.clear_session()\n",
    "    bert_model = TFBertModel.from_pretrained('bert-base-uncased')\n",
    "\n",
    "    classification_model = create_classification_model(bert_model, optimizer=tf.keras.optimizers.Adam(learning_rate=learning_rate, \n",
    "                                                                                          epsilon=epsilon), train_layers=train_layers)    \n",
    "    \n",
    "    classification_model.fit([x_train.input_ids, x_train.token_type_ids, x_train.attention_mask],\n",
    "                         y_train,\n",
    "                         validation_data=([x_dev.input_ids, x_dev.token_type_ids, x_dev.attention_mask],\n",
    "                         y_dev),\n",
    "                        epochs=epochs,\n",
    "                        batch_size=batch_size)\n",
    "    \n",
    "    y_preds_array = classification_model.predict([x_test.input_ids, x_test.token_type_ids, x_test.attention_mask])\n",
    "\n",
    "    # convert to predicted one-hot encoding\n",
    "\n",
    "    from keras.utils.np_utils import to_categorical\n",
    "    y_preds = to_categorical(np.argmax(y_preds_array, 1), dtype = \"int64\")\n",
    "\n",
    "    # convert back to labels\n",
    "\n",
    "    y_test_cat = np.argmax(y_test, axis=1)\n",
    "    y_preds_cat = np.argmax(y_preds, axis=1)\n",
    "    \n",
    "    # calculate metrics\n",
    "    Accuracy = accuracy_score(y_test_cat, y_preds_cat)\n",
    "\n",
    "    Macro_F1 = f1_score(y_test_cat, y_preds_cat, average='macro')\n",
    "\n",
    "    ROC_AUC = roc_auc_score(y_test, y_preds, multi_class='ovo',average='macro')\n",
    "    \n",
    "    return Accuracy, Macro_F1, ROC_AUC"
   ]
  },
  {
   "cell_type": "code",
   "execution_count": 30,
   "metadata": {},
   "outputs": [
    {
     "name": "stderr",
     "output_type": "stream",
     "text": [
      "Some layers from the model checkpoint at bert-base-uncased were not used when initializing TFBertModel: ['mlm___cls', 'nsp___cls']\n",
      "- This IS expected if you are initializing TFBertModel from the checkpoint of a model trained on another task or with another architecture (e.g. initializing a BertForSequenceClassification model from a BertForPreTraining model).\n",
      "- This IS NOT expected if you are initializing TFBertModel from the checkpoint of a model that you expect to be exactly identical (initializing a BertForSequenceClassification model from a BertForSequenceClassification model).\n",
      "All the layers of TFBertModel were initialized from the model checkpoint at bert-base-uncased.\n",
      "If your task is similar to the task the model of the checkpoint was trained on, you can already use TFBertModel for predictions without further training.\n"
     ]
    },
    {
     "name": "stdout",
     "output_type": "stream",
     "text": [
      "Epoch 1/10\n",
      "962/962 [==============================] - 90s 84ms/step - loss: 1.2163 - Accuracy: 0.4303 - val_loss: 0.8985 - val_Accuracy: 0.5944\n",
      "Epoch 2/10\n",
      "962/962 [==============================] - 76s 79ms/step - loss: 1.0270 - Accuracy: 0.5052 - val_loss: 0.8231 - val_Accuracy: 0.6360\n",
      "Epoch 3/10\n",
      "962/962 [==============================] - 78s 81ms/step - loss: 0.9622 - Accuracy: 0.5377 - val_loss: 0.7988 - val_Accuracy: 0.6433\n",
      "Epoch 4/10\n",
      "962/962 [==============================] - 76s 79ms/step - loss: 0.9247 - Accuracy: 0.5603 - val_loss: 0.7861 - val_Accuracy: 0.6557\n",
      "Epoch 5/10\n",
      "962/962 [==============================] - 78s 81ms/step - loss: 0.9055 - Accuracy: 0.5751 - val_loss: 0.7979 - val_Accuracy: 0.6412\n",
      "Epoch 6/10\n",
      "962/962 [==============================] - 78s 81ms/step - loss: 0.8899 - Accuracy: 0.5868 - val_loss: 0.7618 - val_Accuracy: 0.6641\n",
      "Epoch 7/10\n",
      "962/962 [==============================] - 74s 77ms/step - loss: 0.8687 - Accuracy: 0.6042 - val_loss: 0.7575 - val_Accuracy: 0.6609\n",
      "Epoch 8/10\n",
      "962/962 [==============================] - 76s 79ms/step - loss: 0.8528 - Accuracy: 0.6196 - val_loss: 0.7465 - val_Accuracy: 0.6734\n",
      "Epoch 9/10\n",
      "962/962 [==============================] - 76s 79ms/step - loss: 0.8388 - Accuracy: 0.6247 - val_loss: 0.7494 - val_Accuracy: 0.6750\n",
      "Epoch 10/10\n",
      "962/962 [==============================] - 74s 77ms/step - loss: 0.8179 - Accuracy: 0.6362 - val_loss: 0.7476 - val_Accuracy: 0.6729\n"
     ]
    },
    {
     "name": "stderr",
     "output_type": "stream",
     "text": [
      "Some layers from the model checkpoint at bert-base-uncased were not used when initializing TFBertModel: ['mlm___cls', 'nsp___cls']\n",
      "- This IS expected if you are initializing TFBertModel from the checkpoint of a model trained on another task or with another architecture (e.g. initializing a BertForSequenceClassification model from a BertForPreTraining model).\n",
      "- This IS NOT expected if you are initializing TFBertModel from the checkpoint of a model that you expect to be exactly identical (initializing a BertForSequenceClassification model from a BertForSequenceClassification model).\n",
      "All the layers of TFBertModel were initialized from the model checkpoint at bert-base-uncased.\n",
      "If your task is similar to the task the model of the checkpoint was trained on, you can already use TFBertModel for predictions without further training.\n"
     ]
    },
    {
     "name": "stdout",
     "output_type": "stream",
     "text": [
      "Epoch 1/10\n",
      "6731/6731 [==============================] - 538s 79ms/step - loss: 0.9555 - Accuracy: 0.5348 - val_loss: 0.7627 - val_Accuracy: 0.6644\n",
      "Epoch 2/10\n",
      "6731/6731 [==============================] - 528s 78ms/step - loss: 0.8411 - Accuracy: 0.6117 - val_loss: 0.7044 - val_Accuracy: 0.6938\n",
      "Epoch 3/10\n",
      "6731/6731 [==============================] - 530s 79ms/step - loss: 0.7906 - Accuracy: 0.6449 - val_loss: 0.6657 - val_Accuracy: 0.7080\n",
      "Epoch 4/10\n",
      "6731/6731 [==============================] - 526s 78ms/step - loss: 0.7466 - Accuracy: 0.6714 - val_loss: 0.6092 - val_Accuracy: 0.7448\n",
      "Epoch 5/10\n",
      "6731/6731 [==============================] - 526s 78ms/step - loss: 0.7069 - Accuracy: 0.6913 - val_loss: 0.5695 - val_Accuracy: 0.7620\n",
      "Epoch 6/10\n",
      "6731/6731 [==============================] - 529s 79ms/step - loss: 0.6612 - Accuracy: 0.7151 - val_loss: 0.5166 - val_Accuracy: 0.7888\n",
      "Epoch 7/10\n",
      "6731/6731 [==============================] - 527s 78ms/step - loss: 0.6211 - Accuracy: 0.7326 - val_loss: 0.4777 - val_Accuracy: 0.8048\n",
      "Epoch 8/10\n",
      "6731/6731 [==============================] - 529s 79ms/step - loss: 0.5815 - Accuracy: 0.7542 - val_loss: 0.4355 - val_Accuracy: 0.8236\n",
      "Epoch 9/10\n",
      "6731/6731 [==============================] - 530s 79ms/step - loss: 0.5423 - Accuracy: 0.7715 - val_loss: 0.3828 - val_Accuracy: 0.8518\n",
      "Epoch 10/10\n",
      "6731/6731 [==============================] - 528s 78ms/step - loss: 0.5059 - Accuracy: 0.7877 - val_loss: 0.3493 - val_Accuracy: 0.8654\n"
     ]
    },
    {
     "name": "stderr",
     "output_type": "stream",
     "text": [
      "Some layers from the model checkpoint at bert-base-uncased were not used when initializing TFBertModel: ['mlm___cls', 'nsp___cls']\n",
      "- This IS expected if you are initializing TFBertModel from the checkpoint of a model trained on another task or with another architecture (e.g. initializing a BertForSequenceClassification model from a BertForPreTraining model).\n",
      "- This IS NOT expected if you are initializing TFBertModel from the checkpoint of a model that you expect to be exactly identical (initializing a BertForSequenceClassification model from a BertForSequenceClassification model).\n",
      "All the layers of TFBertModel were initialized from the model checkpoint at bert-base-uncased.\n",
      "If your task is similar to the task the model of the checkpoint was trained on, you can already use TFBertModel for predictions without further training.\n"
     ]
    },
    {
     "name": "stdout",
     "output_type": "stream",
     "text": [
      "Epoch 1/10\n",
      "6731/6731 [==============================] - 539s 79ms/step - loss: 1.0045 - Accuracy: 0.5179 - val_loss: 0.7809 - val_Accuracy: 0.6698\n",
      "Epoch 2/10\n",
      "6731/6731 [==============================] - 536s 80ms/step - loss: 0.8671 - Accuracy: 0.6146 - val_loss: 0.7257 - val_Accuracy: 0.6906\n",
      "Epoch 3/10\n",
      "6731/6731 [==============================] - 528s 78ms/step - loss: 0.8134 - Accuracy: 0.6471 - val_loss: 0.6767 - val_Accuracy: 0.7144\n",
      "Epoch 4/10\n",
      "6731/6731 [==============================] - 529s 79ms/step - loss: 0.7705 - Accuracy: 0.6692 - val_loss: 0.6325 - val_Accuracy: 0.7359\n",
      "Epoch 5/10\n",
      "6731/6731 [==============================] - 529s 79ms/step - loss: 0.7287 - Accuracy: 0.6895 - val_loss: 0.5821 - val_Accuracy: 0.7600\n",
      "Epoch 6/10\n",
      "6731/6731 [==============================] - 526s 78ms/step - loss: 0.6860 - Accuracy: 0.7070 - val_loss: 0.5562 - val_Accuracy: 0.7737\n",
      "Epoch 7/10\n",
      "6731/6731 [==============================] - 528s 78ms/step - loss: 0.6409 - Accuracy: 0.7290 - val_loss: 0.4926 - val_Accuracy: 0.8030\n",
      "Epoch 8/10\n",
      "6731/6731 [==============================] - 526s 78ms/step - loss: 0.6020 - Accuracy: 0.7482 - val_loss: 0.4409 - val_Accuracy: 0.8268\n",
      "Epoch 9/10\n",
      "6731/6731 [==============================] - 526s 78ms/step - loss: 0.5608 - Accuracy: 0.7652 - val_loss: 0.3937 - val_Accuracy: 0.8440\n",
      "Epoch 10/10\n",
      "6731/6731 [==============================] - 528s 78ms/step - loss: 0.5181 - Accuracy: 0.7849 - val_loss: 0.3567 - val_Accuracy: 0.8624\n"
     ]
    },
    {
     "name": "stderr",
     "output_type": "stream",
     "text": [
      "Some layers from the model checkpoint at bert-base-uncased were not used when initializing TFBertModel: ['mlm___cls', 'nsp___cls']\n",
      "- This IS expected if you are initializing TFBertModel from the checkpoint of a model trained on another task or with another architecture (e.g. initializing a BertForSequenceClassification model from a BertForPreTraining model).\n",
      "- This IS NOT expected if you are initializing TFBertModel from the checkpoint of a model that you expect to be exactly identical (initializing a BertForSequenceClassification model from a BertForSequenceClassification model).\n",
      "All the layers of TFBertModel were initialized from the model checkpoint at bert-base-uncased.\n",
      "If your task is similar to the task the model of the checkpoint was trained on, you can already use TFBertModel for predictions without further training.\n"
     ]
    },
    {
     "name": "stdout",
     "output_type": "stream",
     "text": [
      "Epoch 1/10\n",
      "6731/6731 [==============================] - 538s 79ms/step - loss: 0.9815 - Accuracy: 0.5512 - val_loss: 0.7445 - val_Accuracy: 0.6756\n",
      "Epoch 2/10\n",
      "6731/6731 [==============================] - 527s 78ms/step - loss: 0.8388 - Accuracy: 0.6304 - val_loss: 0.7109 - val_Accuracy: 0.6973\n",
      "Epoch 3/10\n",
      "6731/6731 [==============================] - 526s 78ms/step - loss: 0.7873 - Accuracy: 0.6537 - val_loss: 0.6674 - val_Accuracy: 0.7224\n",
      "Epoch 4/10\n",
      "6731/6731 [==============================] - 528s 78ms/step - loss: 0.7465 - Accuracy: 0.6772 - val_loss: 0.6259 - val_Accuracy: 0.7395\n",
      "Epoch 5/10\n",
      "6731/6731 [==============================] - 526s 78ms/step - loss: 0.7083 - Accuracy: 0.6939 - val_loss: 0.5644 - val_Accuracy: 0.7689\n",
      "Epoch 6/10\n",
      "6731/6731 [==============================] - 528s 78ms/step - loss: 0.6635 - Accuracy: 0.7172 - val_loss: 0.5105 - val_Accuracy: 0.7930\n",
      "Epoch 7/10\n",
      "6731/6731 [==============================] - 526s 78ms/step - loss: 0.6150 - Accuracy: 0.7410 - val_loss: 0.4537 - val_Accuracy: 0.8208\n",
      "Epoch 8/10\n",
      "6731/6731 [==============================] - 526s 78ms/step - loss: 0.5730 - Accuracy: 0.7614 - val_loss: 0.4046 - val_Accuracy: 0.8461\n",
      "Epoch 9/10\n",
      "6731/6731 [==============================] - 528s 78ms/step - loss: 0.5284 - Accuracy: 0.7826 - val_loss: 0.3500 - val_Accuracy: 0.8666\n",
      "Epoch 10/10\n",
      "6731/6731 [==============================] - 528s 78ms/step - loss: 0.4893 - Accuracy: 0.8006 - val_loss: 0.3212 - val_Accuracy: 0.8790\n"
     ]
    },
    {
     "name": "stderr",
     "output_type": "stream",
     "text": [
      "Some layers from the model checkpoint at bert-base-uncased were not used when initializing TFBertModel: ['mlm___cls', 'nsp___cls']\n",
      "- This IS expected if you are initializing TFBertModel from the checkpoint of a model trained on another task or with another architecture (e.g. initializing a BertForSequenceClassification model from a BertForPreTraining model).\n",
      "- This IS NOT expected if you are initializing TFBertModel from the checkpoint of a model that you expect to be exactly identical (initializing a BertForSequenceClassification model from a BertForSequenceClassification model).\n",
      "All the layers of TFBertModel were initialized from the model checkpoint at bert-base-uncased.\n",
      "If your task is similar to the task the model of the checkpoint was trained on, you can already use TFBertModel for predictions without further training.\n"
     ]
    },
    {
     "name": "stdout",
     "output_type": "stream",
     "text": [
      "Epoch 1/10\n",
      "6731/6731 [==============================] - 536s 78ms/step - loss: 1.0252 - Accuracy: 0.5187 - val_loss: 0.7882 - val_Accuracy: 0.6513\n",
      "Epoch 2/10\n",
      "6731/6731 [==============================] - 523s 78ms/step - loss: 0.8755 - Accuracy: 0.6001 - val_loss: 0.7348 - val_Accuracy: 0.6776\n",
      "Epoch 3/10\n",
      "6731/6731 [==============================] - 524s 78ms/step - loss: 0.8184 - Accuracy: 0.6319 - val_loss: 0.6954 - val_Accuracy: 0.6991\n",
      "Epoch 4/10\n",
      "6731/6731 [==============================] - 523s 78ms/step - loss: 0.7763 - Accuracy: 0.6556 - val_loss: 0.6473 - val_Accuracy: 0.7213\n",
      "Epoch 5/10\n",
      "6731/6731 [==============================] - 523s 78ms/step - loss: 0.7362 - Accuracy: 0.6774 - val_loss: 0.5996 - val_Accuracy: 0.7401\n",
      "Epoch 6/10\n",
      "6731/6731 [==============================] - 525s 78ms/step - loss: 0.6932 - Accuracy: 0.6958 - val_loss: 0.5638 - val_Accuracy: 0.7638\n",
      "Epoch 7/10\n",
      "6731/6731 [==============================] - 523s 78ms/step - loss: 0.6513 - Accuracy: 0.7169 - val_loss: 0.5073 - val_Accuracy: 0.7854\n",
      "Epoch 8/10\n",
      "6731/6731 [==============================] - 523s 78ms/step - loss: 0.6113 - Accuracy: 0.7385 - val_loss: 0.4679 - val_Accuracy: 0.8078\n",
      "Epoch 9/10\n",
      "6731/6731 [==============================] - 524s 78ms/step - loss: 0.5730 - Accuracy: 0.7532 - val_loss: 0.4291 - val_Accuracy: 0.8230\n",
      "Epoch 10/10\n",
      "6731/6731 [==============================] - 524s 78ms/step - loss: 0.5418 - Accuracy: 0.7686 - val_loss: 0.3986 - val_Accuracy: 0.8377\n"
     ]
    },
    {
     "name": "stderr",
     "output_type": "stream",
     "text": [
      "Some layers from the model checkpoint at bert-base-uncased were not used when initializing TFBertModel: ['mlm___cls', 'nsp___cls']\n",
      "- This IS expected if you are initializing TFBertModel from the checkpoint of a model trained on another task or with another architecture (e.g. initializing a BertForSequenceClassification model from a BertForPreTraining model).\n",
      "- This IS NOT expected if you are initializing TFBertModel from the checkpoint of a model that you expect to be exactly identical (initializing a BertForSequenceClassification model from a BertForSequenceClassification model).\n",
      "All the layers of TFBertModel were initialized from the model checkpoint at bert-base-uncased.\n",
      "If your task is similar to the task the model of the checkpoint was trained on, you can already use TFBertModel for predictions without further training.\n"
     ]
    },
    {
     "name": "stdout",
     "output_type": "stream",
     "text": [
      "Epoch 1/10\n",
      "6731/6731 [==============================] - 593s 87ms/step - loss: 0.9747 - Accuracy: 0.5450 - val_loss: 0.7297 - val_Accuracy: 0.6833\n",
      "Epoch 2/10\n",
      "6731/6731 [==============================] - 606s 90ms/step - loss: 0.8200 - Accuracy: 0.6340 - val_loss: 0.6768 - val_Accuracy: 0.7113\n",
      "Epoch 3/10\n",
      "6731/6731 [==============================] - 604s 90ms/step - loss: 0.7604 - Accuracy: 0.6666 - val_loss: 0.6179 - val_Accuracy: 0.7433\n",
      "Epoch 4/10\n",
      "6731/6731 [==============================] - 636s 94ms/step - loss: 0.7091 - Accuracy: 0.6932 - val_loss: 0.5613 - val_Accuracy: 0.7688\n",
      "Epoch 5/10\n",
      "6731/6731 [==============================] - 620s 92ms/step - loss: 0.6542 - Accuracy: 0.7215 - val_loss: 0.4919 - val_Accuracy: 0.8034\n",
      "Epoch 6/10\n",
      "6731/6731 [==============================] - 611s 91ms/step - loss: 0.5993 - Accuracy: 0.7491 - val_loss: 0.4329 - val_Accuracy: 0.8305\n",
      "Epoch 7/10\n",
      "6731/6731 [==============================] - 624s 93ms/step - loss: 0.5455 - Accuracy: 0.7737 - val_loss: 0.3585 - val_Accuracy: 0.8661\n",
      "Epoch 8/10\n",
      "6731/6731 [==============================] - 578s 86ms/step - loss: 0.4981 - Accuracy: 0.7941 - val_loss: 0.3018 - val_Accuracy: 0.8915\n",
      "Epoch 9/10\n",
      "6731/6731 [==============================] - 618s 92ms/step - loss: 0.4502 - Accuracy: 0.8157 - val_loss: 0.2592 - val_Accuracy: 0.9059\n",
      "Epoch 10/10\n",
      "6731/6731 [==============================] - 585s 87ms/step - loss: 0.4129 - Accuracy: 0.8313 - val_loss: 0.2220 - val_Accuracy: 0.9211\n"
     ]
    },
    {
     "name": "stderr",
     "output_type": "stream",
     "text": [
      "Some layers from the model checkpoint at bert-base-uncased were not used when initializing TFBertModel: ['mlm___cls', 'nsp___cls']\n",
      "- This IS expected if you are initializing TFBertModel from the checkpoint of a model trained on another task or with another architecture (e.g. initializing a BertForSequenceClassification model from a BertForPreTraining model).\n",
      "- This IS NOT expected if you are initializing TFBertModel from the checkpoint of a model that you expect to be exactly identical (initializing a BertForSequenceClassification model from a BertForSequenceClassification model).\n",
      "All the layers of TFBertModel were initialized from the model checkpoint at bert-base-uncased.\n",
      "If your task is similar to the task the model of the checkpoint was trained on, you can already use TFBertModel for predictions without further training.\n"
     ]
    },
    {
     "name": "stdout",
     "output_type": "stream",
     "text": [
      "Epoch 1/10\n",
      "6731/6731 [==============================] - 610s 89ms/step - loss: 1.0008 - Accuracy: 0.5209 - val_loss: 0.8179 - val_Accuracy: 0.6256\n",
      "Epoch 2/10\n",
      "6731/6731 [==============================] - 575s 85ms/step - loss: 0.8816 - Accuracy: 0.5969 - val_loss: 0.7787 - val_Accuracy: 0.6495\n",
      "Epoch 3/10\n",
      "6731/6731 [==============================] - 577s 86ms/step - loss: 0.8448 - Accuracy: 0.6188 - val_loss: 0.7574 - val_Accuracy: 0.6624\n",
      "Epoch 4/10\n",
      "6731/6731 [==============================] - 603s 90ms/step - loss: 0.8192 - Accuracy: 0.6319 - val_loss: 0.7359 - val_Accuracy: 0.6738\n",
      "Epoch 5/10\n",
      "6731/6731 [==============================] - 647s 96ms/step - loss: 0.7960 - Accuracy: 0.6464 - val_loss: 0.7214 - val_Accuracy: 0.6818\n",
      "Epoch 6/10\n",
      "6731/6731 [==============================] - 597s 89ms/step - loss: 0.7760 - Accuracy: 0.6587 - val_loss: 0.6952 - val_Accuracy: 0.6918\n",
      "Epoch 7/10\n",
      "6731/6731 [==============================] - 603s 90ms/step - loss: 0.7527 - Accuracy: 0.6686 - val_loss: 0.6776 - val_Accuracy: 0.7025\n",
      "Epoch 8/10\n",
      "6731/6731 [==============================] - 610s 91ms/step - loss: 0.7300 - Accuracy: 0.6824 - val_loss: 0.6648 - val_Accuracy: 0.7111\n",
      "Epoch 9/10\n",
      "6731/6731 [==============================] - 577s 86ms/step - loss: 0.7097 - Accuracy: 0.6907 - val_loss: 0.6442 - val_Accuracy: 0.7209\n",
      "Epoch 10/10\n",
      "6731/6731 [==============================] - 562s 83ms/step - loss: 0.6807 - Accuracy: 0.7051 - val_loss: 0.6333 - val_Accuracy: 0.7296\n"
     ]
    }
   ],
   "source": [
    "# original data set\n",
    "Accuracy_orig, Macro_F1_orig, ROC_AUC_orig = fine_tune_BERT(X_train_orig, X_dev_orig, X_test_orig, \n",
    "                                                            y_train_orig, y_dev_orig, y_test_orig, \n",
    "                                                            learning_rate = 2e-05, epsilon=1e-08, \n",
    "                                                            train_layers = 1, epochs = 10, batch_size = 16)\n",
    "\n",
    "# augmented with sr = 0.1\n",
    "Accuracy_aug_sr, Macro_F1_aug_sr, ROC_AUC_aug_sr = fine_tune_BERT(X_train_aug_sr, X_dev_aug_sr, X_test_aug_sr, \n",
    "                                                            y_train_aug_sr, y_dev_aug_sr, y_test_aug_sr, \n",
    "                                                            learning_rate = 2e-05, epsilon=1e-08, \n",
    "                                                            train_layers = 1, epochs = 10, batch_size = 16)\n",
    "\n",
    "# augmented with ri = 0.1\n",
    "Accuracy_aug_ri, Macro_F1_aug_ri, ROC_AUC_aug_ri = fine_tune_BERT(X_train_aug_ri, X_dev_aug_ri, X_test_aug_ri, \n",
    "                                                            y_train_aug_ri, y_dev_aug_ri, y_test_aug_ri, \n",
    "                                                            learning_rate = 2e-05, epsilon=1e-08, \n",
    "                                                            train_layers = 1, epochs = 10, batch_size = 16)\n",
    "\n",
    "# augmented with rs = 0.1\n",
    "Accuracy_aug_rs, Macro_F1_aug_rs, ROC_AUC_aug_rs = fine_tune_BERT(X_train_aug_rs, X_dev_aug_rs, X_test_aug_rs, \n",
    "                                                            y_train_aug_rs, y_dev_aug_rs, y_test_aug_rs, \n",
    "                                                            learning_rate = 2e-05, epsilon=1e-08, \n",
    "                                                            train_layers = 1, epochs = 10, batch_size = 16)\n",
    "\n",
    "# augmented with rd = 0.1\n",
    "Accuracy_aug_rd, Macro_F1_aug_rd, ROC_AUC_aug_rd = fine_tune_BERT(X_train_aug_rd, X_dev_aug_rd, X_test_aug_rd, \n",
    "                                                            y_train_aug_rd, y_dev_aug_rd, y_test_aug_rd, \n",
    "                                                            learning_rate = 2e-05, epsilon=1e-08, \n",
    "                                                            train_layers = 1, epochs = 10, batch_size = 16)\n",
    "\n",
    "# augmented with all = 0.1\n",
    "Accuracy_aug_all_1, Macro_F1_aug_all_1, ROC_AUC_aug_all_1 = fine_tune_BERT(X_train_all_1, X_dev_all_1, X_test_all_1, \n",
    "                                                            y_train_all_1, y_dev_all_1, y_test_all_1, \n",
    "                                                            learning_rate = 2e-05, epsilon=1e-08, \n",
    "                                                            train_layers = 1, epochs = 10, batch_size = 16)\n",
    "\n",
    "# augmented with all = 0.5\n",
    "Accuracy_aug_all_5, Macro_F1_aug_all_5, ROC_AUC_aug_all_5 = fine_tune_BERT(X_train_all_5, X_dev_all_5, X_test_all_5, \n",
    "                                                            y_train_all_5, y_dev_all_5, y_test_all_5, \n",
    "                                                            learning_rate = 2e-05, epsilon=1e-08, \n",
    "                                                            train_layers = 1, epochs = 10, batch_size = 16)"
   ]
  },
  {
   "cell_type": "code",
   "execution_count": 32,
   "metadata": {},
   "outputs": [
    {
     "data": {
      "text/plain": [
       "(0.6921476859074362, 0.6763619159233705, 0.7605735644086734)"
      ]
     },
     "execution_count": 32,
     "metadata": {},
     "output_type": "execute_result"
    }
   ],
   "source": [
    "Accuracy_orig, Macro_F1_orig, ROC_AUC_orig"
   ]
  },
  {
   "cell_type": "code",
   "execution_count": 33,
   "metadata": {},
   "outputs": [
    {
     "data": {
      "text/plain": [
       "(0.858034321372855, 0.8531984013940838, 0.8898612606209272)"
      ]
     },
     "execution_count": 33,
     "metadata": {},
     "output_type": "execute_result"
    }
   ],
   "source": [
    "Accuracy_aug_sr, Macro_F1_aug_sr, ROC_AUC_aug_sr"
   ]
  },
  {
   "cell_type": "code",
   "execution_count": 34,
   "metadata": {},
   "outputs": [
    {
     "data": {
      "text/plain": [
       "(0.8623430651511774, 0.8588977190225675, 0.895104978880032)"
      ]
     },
     "execution_count": 34,
     "metadata": {},
     "output_type": "execute_result"
    }
   ],
   "source": [
    "Accuracy_aug_ri, Macro_F1_aug_ri, ROC_AUC_aug_ri"
   ]
  },
  {
   "cell_type": "code",
   "execution_count": 35,
   "metadata": {},
   "outputs": [
    {
     "data": {
      "text/plain": [
       "(0.8743778322561474, 0.8701679075167328, 0.9038563764017254)"
      ]
     },
     "execution_count": 35,
     "metadata": {},
     "output_type": "execute_result"
    }
   ],
   "source": [
    "Accuracy_aug_rs, Macro_F1_aug_rs, ROC_AUC_aug_rs"
   ]
  },
  {
   "cell_type": "code",
   "execution_count": 36,
   "metadata": {},
   "outputs": [
    {
     "data": {
      "text/plain": [
       "(0.8315132605304212, 0.8255996780887646, 0.8675743876683447)"
      ]
     },
     "execution_count": 36,
     "metadata": {},
     "output_type": "execute_result"
    }
   ],
   "source": [
    "Accuracy_aug_rd, Macro_F1_aug_rd, ROC_AUC_aug_rd"
   ]
  },
  {
   "cell_type": "code",
   "execution_count": 37,
   "metadata": {},
   "outputs": [
    {
     "data": {
      "text/plain": [
       "(0.9240769630785232, 0.9219750810416283, 0.9418219918897209)"
      ]
     },
     "execution_count": 37,
     "metadata": {},
     "output_type": "execute_result"
    }
   ],
   "source": [
    "Accuracy_aug_all_1, Macro_F1_aug_all_1, ROC_AUC_aug_all_1"
   ]
  },
  {
   "cell_type": "code",
   "execution_count": 38,
   "metadata": {},
   "outputs": [
    {
     "data": {
      "text/plain": [
       "(0.730257781739841, 0.7130136939714572, 0.789447394165547)"
      ]
     },
     "execution_count": 38,
     "metadata": {},
     "output_type": "execute_result"
    }
   ],
   "source": [
    "Accuracy_aug_all_5, Macro_F1_aug_all_5, ROC_AUC_aug_all_5"
   ]
  },
  {
   "cell_type": "code",
   "execution_count": 41,
   "metadata": {},
   "outputs": [],
   "source": [
    "trial_name_list = ['Original Data', 'Augmented SR 0.1', 'Augmented RI 0.1', \n",
    "                   'Augmented RS 0.1', 'Augmented RD 0.1', 'Augmented All 0.1', 'Augmented All 0.5']\n",
    "\n",
    "acc_list = [Accuracy_orig, Accuracy_aug_sr, Accuracy_aug_ri, Accuracy_aug_rs, \n",
    "            Accuracy_aug_rd, Accuracy_aug_all_1, Accuracy_aug_all_5]\n",
    "\n",
    "macro_f1_list = [Macro_F1_orig, Macro_F1_aug_sr, Macro_F1_aug_ri, Macro_F1_aug_rs, \n",
    "                 Macro_F1_aug_rd, Macro_F1_aug_all_1, Macro_F1_aug_all_5]\n",
    "\n",
    "roc_auc_list = [ROC_AUC_orig, ROC_AUC_aug_sr, ROC_AUC_aug_ri, ROC_AUC_aug_rs, \n",
    "                ROC_AUC_aug_rd, ROC_AUC_aug_all_1, ROC_AUC_aug_all_5]"
   ]
  },
  {
   "cell_type": "code",
   "execution_count": 42,
   "metadata": {},
   "outputs": [],
   "source": [
    "result_dict = {'Trial Name' : trial_name_list, 'Test Accuracy Score' : acc_list, \n",
    "               'Test Macro F1 Score' : macro_f1_list, 'Test ROC AUC Score' : roc_auc_list}"
   ]
  },
  {
   "cell_type": "code",
   "execution_count": 43,
   "metadata": {},
   "outputs": [
    {
     "data": {
      "text/html": [
       "<div>\n",
       "<style scoped>\n",
       "    .dataframe tbody tr th:only-of-type {\n",
       "        vertical-align: middle;\n",
       "    }\n",
       "\n",
       "    .dataframe tbody tr th {\n",
       "        vertical-align: top;\n",
       "    }\n",
       "\n",
       "    .dataframe thead th {\n",
       "        text-align: right;\n",
       "    }\n",
       "</style>\n",
       "<table border=\"1\" class=\"dataframe\">\n",
       "  <thead>\n",
       "    <tr style=\"text-align: right;\">\n",
       "      <th></th>\n",
       "      <th>Trial Name</th>\n",
       "      <th>Test Accuracy Score</th>\n",
       "      <th>Test Macro F1 Score</th>\n",
       "      <th>Test ROC AUC Score</th>\n",
       "    </tr>\n",
       "  </thead>\n",
       "  <tbody>\n",
       "    <tr>\n",
       "      <th>0</th>\n",
       "      <td>Original Data</td>\n",
       "      <td>0.692148</td>\n",
       "      <td>0.676362</td>\n",
       "      <td>0.760574</td>\n",
       "    </tr>\n",
       "    <tr>\n",
       "      <th>1</th>\n",
       "      <td>Augmented SR 0.1</td>\n",
       "      <td>0.858034</td>\n",
       "      <td>0.853198</td>\n",
       "      <td>0.889861</td>\n",
       "    </tr>\n",
       "    <tr>\n",
       "      <th>2</th>\n",
       "      <td>Augmented RI 0.1</td>\n",
       "      <td>0.862343</td>\n",
       "      <td>0.858898</td>\n",
       "      <td>0.895105</td>\n",
       "    </tr>\n",
       "    <tr>\n",
       "      <th>3</th>\n",
       "      <td>Augmented RS 0.1</td>\n",
       "      <td>0.874378</td>\n",
       "      <td>0.870168</td>\n",
       "      <td>0.903856</td>\n",
       "    </tr>\n",
       "    <tr>\n",
       "      <th>4</th>\n",
       "      <td>Augmented RD 0.1</td>\n",
       "      <td>0.831513</td>\n",
       "      <td>0.825600</td>\n",
       "      <td>0.867574</td>\n",
       "    </tr>\n",
       "    <tr>\n",
       "      <th>5</th>\n",
       "      <td>Augmented All 0.1</td>\n",
       "      <td>0.924077</td>\n",
       "      <td>0.921975</td>\n",
       "      <td>0.941822</td>\n",
       "    </tr>\n",
       "    <tr>\n",
       "      <th>6</th>\n",
       "      <td>Augmented All 0.5</td>\n",
       "      <td>0.730258</td>\n",
       "      <td>0.713014</td>\n",
       "      <td>0.789447</td>\n",
       "    </tr>\n",
       "  </tbody>\n",
       "</table>\n",
       "</div>"
      ],
      "text/plain": [
       "          Trial Name  Test Accuracy Score  Test Macro F1 Score  \\\n",
       "0      Original Data             0.692148             0.676362   \n",
       "1   Augmented SR 0.1             0.858034             0.853198   \n",
       "2   Augmented RI 0.1             0.862343             0.858898   \n",
       "3   Augmented RS 0.1             0.874378             0.870168   \n",
       "4   Augmented RD 0.1             0.831513             0.825600   \n",
       "5  Augmented All 0.1             0.924077             0.921975   \n",
       "6  Augmented All 0.5             0.730258             0.713014   \n",
       "\n",
       "   Test ROC AUC Score  \n",
       "0            0.760574  \n",
       "1            0.889861  \n",
       "2            0.895105  \n",
       "3            0.903856  \n",
       "4            0.867574  \n",
       "5            0.941822  \n",
       "6            0.789447  "
      ]
     },
     "execution_count": 43,
     "metadata": {},
     "output_type": "execute_result"
    }
   ],
   "source": [
    "results_df = pd.DataFrame(result_dict)\n",
    "\n",
    "results_df"
   ]
  },
  {
   "cell_type": "code",
   "execution_count": 45,
   "metadata": {},
   "outputs": [],
   "source": [
    "results_df.to_csv('All_DA_BERT_base_uncased.csv')"
   ]
  },
  {
   "cell_type": "code",
   "execution_count": null,
   "metadata": {},
   "outputs": [],
   "source": []
  }
 ],
 "metadata": {
  "colab": {
   "authorship_tag": "ABX9TyOeNGBZaTc3vi1iokDn5dgn",
   "collapsed_sections": [],
   "name": "Data_Processing",
   "provenance": []
  },
  "kernelspec": {
   "display_name": "Python 3 (ipykernel)",
   "language": "python",
   "name": "python3"
  },
  "language_info": {
   "codemirror_mode": {
    "name": "ipython",
    "version": 3
   },
   "file_extension": ".py",
   "mimetype": "text/x-python",
   "name": "python",
   "nbconvert_exporter": "python",
   "pygments_lexer": "ipython3",
   "version": "3.9.7"
  },
  "widgets": {
   "application/vnd.jupyter.widget-state+json": {
    "02d7e8c53bf94bf48c06cea9abbd9aba": {
     "model_module": "@jupyter-widgets/controls",
     "model_module_version": "1.5.0",
     "model_name": "HBoxModel",
     "state": {
      "_dom_classes": [],
      "_model_module": "@jupyter-widgets/controls",
      "_model_module_version": "1.5.0",
      "_model_name": "HBoxModel",
      "_view_count": null,
      "_view_module": "@jupyter-widgets/controls",
      "_view_module_version": "1.5.0",
      "_view_name": "HBoxView",
      "box_style": "",
      "children": [
       "IPY_MODEL_bf38f0560d3e493ca2b97fd974d00462",
       "IPY_MODEL_8a60b779e7d749d284b791b9e5126a62",
       "IPY_MODEL_2e51f1cad2b84893b537beb7e4ebf67c"
      ],
      "layout": "IPY_MODEL_d57bc505733b4c738cf84db24feba360"
     }
    },
    "047bcb706b304be09200793be7524708": {
     "model_module": "@jupyter-widgets/base",
     "model_module_version": "1.2.0",
     "model_name": "LayoutModel",
     "state": {
      "_model_module": "@jupyter-widgets/base",
      "_model_module_version": "1.2.0",
      "_model_name": "LayoutModel",
      "_view_count": null,
      "_view_module": "@jupyter-widgets/base",
      "_view_module_version": "1.2.0",
      "_view_name": "LayoutView",
      "align_content": null,
      "align_items": null,
      "align_self": null,
      "border": null,
      "bottom": null,
      "display": null,
      "flex": null,
      "flex_flow": null,
      "grid_area": null,
      "grid_auto_columns": null,
      "grid_auto_flow": null,
      "grid_auto_rows": null,
      "grid_column": null,
      "grid_gap": null,
      "grid_row": null,
      "grid_template_areas": null,
      "grid_template_columns": null,
      "grid_template_rows": null,
      "height": null,
      "justify_content": null,
      "justify_items": null,
      "left": null,
      "margin": null,
      "max_height": null,
      "max_width": null,
      "min_height": null,
      "min_width": null,
      "object_fit": null,
      "object_position": null,
      "order": null,
      "overflow": null,
      "overflow_x": null,
      "overflow_y": null,
      "padding": null,
      "right": null,
      "top": null,
      "visibility": null,
      "width": null
     }
    },
    "071ca09b48bf4d9989852d66f8d57642": {
     "model_module": "@jupyter-widgets/controls",
     "model_module_version": "1.5.0",
     "model_name": "HBoxModel",
     "state": {
      "_dom_classes": [],
      "_model_module": "@jupyter-widgets/controls",
      "_model_module_version": "1.5.0",
      "_model_name": "HBoxModel",
      "_view_count": null,
      "_view_module": "@jupyter-widgets/controls",
      "_view_module_version": "1.5.0",
      "_view_name": "HBoxView",
      "box_style": "",
      "children": [
       "IPY_MODEL_8aa487d37b284b2ba88903923a0086d9",
       "IPY_MODEL_b3ba42a7365d418f9cbf7f68ede3b65a",
       "IPY_MODEL_c7e4cea875eb41c8950f97350c237730"
      ],
      "layout": "IPY_MODEL_15db3b4b336b41cdb973852bb3fef72f"
     }
    },
    "0c234fac6d10482089dacd2c03a5bbde": {
     "model_module": "@jupyter-widgets/base",
     "model_module_version": "1.2.0",
     "model_name": "LayoutModel",
     "state": {
      "_model_module": "@jupyter-widgets/base",
      "_model_module_version": "1.2.0",
      "_model_name": "LayoutModel",
      "_view_count": null,
      "_view_module": "@jupyter-widgets/base",
      "_view_module_version": "1.2.0",
      "_view_name": "LayoutView",
      "align_content": null,
      "align_items": null,
      "align_self": null,
      "border": null,
      "bottom": null,
      "display": null,
      "flex": null,
      "flex_flow": null,
      "grid_area": null,
      "grid_auto_columns": null,
      "grid_auto_flow": null,
      "grid_auto_rows": null,
      "grid_column": null,
      "grid_gap": null,
      "grid_row": null,
      "grid_template_areas": null,
      "grid_template_columns": null,
      "grid_template_rows": null,
      "height": null,
      "justify_content": null,
      "justify_items": null,
      "left": null,
      "margin": null,
      "max_height": null,
      "max_width": null,
      "min_height": null,
      "min_width": null,
      "object_fit": null,
      "object_position": null,
      "order": null,
      "overflow": null,
      "overflow_x": null,
      "overflow_y": null,
      "padding": null,
      "right": null,
      "top": null,
      "visibility": null,
      "width": null
     }
    },
    "12bf3b8f0bab4586847a07e8c438dafa": {
     "model_module": "@jupyter-widgets/controls",
     "model_module_version": "1.5.0",
     "model_name": "HBoxModel",
     "state": {
      "_dom_classes": [],
      "_model_module": "@jupyter-widgets/controls",
      "_model_module_version": "1.5.0",
      "_model_name": "HBoxModel",
      "_view_count": null,
      "_view_module": "@jupyter-widgets/controls",
      "_view_module_version": "1.5.0",
      "_view_name": "HBoxView",
      "box_style": "",
      "children": [
       "IPY_MODEL_e67ba177d3744ea4bcc652774cd13abd",
       "IPY_MODEL_43eb8a62436a4c149e25f98f49a7c68d",
       "IPY_MODEL_3723a8c5f8eb47efa71e50a5ef924123"
      ],
      "layout": "IPY_MODEL_8039ef2f59ee482781f325f5a91b93e8"
     }
    },
    "15db3b4b336b41cdb973852bb3fef72f": {
     "model_module": "@jupyter-widgets/base",
     "model_module_version": "1.2.0",
     "model_name": "LayoutModel",
     "state": {
      "_model_module": "@jupyter-widgets/base",
      "_model_module_version": "1.2.0",
      "_model_name": "LayoutModel",
      "_view_count": null,
      "_view_module": "@jupyter-widgets/base",
      "_view_module_version": "1.2.0",
      "_view_name": "LayoutView",
      "align_content": null,
      "align_items": null,
      "align_self": null,
      "border": null,
      "bottom": null,
      "display": null,
      "flex": null,
      "flex_flow": null,
      "grid_area": null,
      "grid_auto_columns": null,
      "grid_auto_flow": null,
      "grid_auto_rows": null,
      "grid_column": null,
      "grid_gap": null,
      "grid_row": null,
      "grid_template_areas": null,
      "grid_template_columns": null,
      "grid_template_rows": null,
      "height": null,
      "justify_content": null,
      "justify_items": null,
      "left": null,
      "margin": null,
      "max_height": null,
      "max_width": null,
      "min_height": null,
      "min_width": null,
      "object_fit": null,
      "object_position": null,
      "order": null,
      "overflow": null,
      "overflow_x": null,
      "overflow_y": null,
      "padding": null,
      "right": null,
      "top": null,
      "visibility": null,
      "width": null
     }
    },
    "1b1a083fc8e643a78f055105960b523e": {
     "model_module": "@jupyter-widgets/base",
     "model_module_version": "1.2.0",
     "model_name": "LayoutModel",
     "state": {
      "_model_module": "@jupyter-widgets/base",
      "_model_module_version": "1.2.0",
      "_model_name": "LayoutModel",
      "_view_count": null,
      "_view_module": "@jupyter-widgets/base",
      "_view_module_version": "1.2.0",
      "_view_name": "LayoutView",
      "align_content": null,
      "align_items": null,
      "align_self": null,
      "border": null,
      "bottom": null,
      "display": null,
      "flex": null,
      "flex_flow": null,
      "grid_area": null,
      "grid_auto_columns": null,
      "grid_auto_flow": null,
      "grid_auto_rows": null,
      "grid_column": null,
      "grid_gap": null,
      "grid_row": null,
      "grid_template_areas": null,
      "grid_template_columns": null,
      "grid_template_rows": null,
      "height": null,
      "justify_content": null,
      "justify_items": null,
      "left": null,
      "margin": null,
      "max_height": null,
      "max_width": null,
      "min_height": null,
      "min_width": null,
      "object_fit": null,
      "object_position": null,
      "order": null,
      "overflow": null,
      "overflow_x": null,
      "overflow_y": null,
      "padding": null,
      "right": null,
      "top": null,
      "visibility": null,
      "width": null
     }
    },
    "263134a33eaa4345926dd786256c08eb": {
     "model_module": "@jupyter-widgets/controls",
     "model_module_version": "1.5.0",
     "model_name": "DescriptionStyleModel",
     "state": {
      "_model_module": "@jupyter-widgets/controls",
      "_model_module_version": "1.5.0",
      "_model_name": "DescriptionStyleModel",
      "_view_count": null,
      "_view_module": "@jupyter-widgets/base",
      "_view_module_version": "1.2.0",
      "_view_name": "StyleView",
      "description_width": ""
     }
    },
    "2af599ea5c3d4874aff863303c5b5703": {
     "model_module": "@jupyter-widgets/controls",
     "model_module_version": "1.5.0",
     "model_name": "HTMLModel",
     "state": {
      "_dom_classes": [],
      "_model_module": "@jupyter-widgets/controls",
      "_model_module_version": "1.5.0",
      "_model_name": "HTMLModel",
      "_view_count": null,
      "_view_module": "@jupyter-widgets/controls",
      "_view_module_version": "1.5.0",
      "_view_name": "HTMLView",
      "description": "",
      "description_tooltip": null,
      "layout": "IPY_MODEL_b473e96d36604d71ae5d3d8e69cc01c3",
      "placeholder": "​",
      "style": "IPY_MODEL_263134a33eaa4345926dd786256c08eb",
      "value": "Downloading: 100%"
     }
    },
    "2e51f1cad2b84893b537beb7e4ebf67c": {
     "model_module": "@jupyter-widgets/controls",
     "model_module_version": "1.5.0",
     "model_name": "HTMLModel",
     "state": {
      "_dom_classes": [],
      "_model_module": "@jupyter-widgets/controls",
      "_model_module_version": "1.5.0",
      "_model_name": "HTMLModel",
      "_view_count": null,
      "_view_module": "@jupyter-widgets/controls",
      "_view_module_version": "1.5.0",
      "_view_name": "HTMLView",
      "description": "",
      "description_tooltip": null,
      "layout": "IPY_MODEL_c3df12951362451685bea68b7091c69f",
      "placeholder": "​",
      "style": "IPY_MODEL_b8b44bed109443fd9bba63a7039f3c93",
      "value": " 226k/226k [00:00&lt;00:00, 3.21MB/s]"
     }
    },
    "3723a8c5f8eb47efa71e50a5ef924123": {
     "model_module": "@jupyter-widgets/controls",
     "model_module_version": "1.5.0",
     "model_name": "HTMLModel",
     "state": {
      "_dom_classes": [],
      "_model_module": "@jupyter-widgets/controls",
      "_model_module_version": "1.5.0",
      "_model_name": "HTMLModel",
      "_view_count": null,
      "_view_module": "@jupyter-widgets/controls",
      "_view_module_version": "1.5.0",
      "_view_name": "HTMLView",
      "description": "",
      "description_tooltip": null,
      "layout": "IPY_MODEL_1b1a083fc8e643a78f055105960b523e",
      "placeholder": "​",
      "style": "IPY_MODEL_c26d9b9e910a43febfd588927c3e7756",
      "value": " 299/299 [00:00&lt;00:00, 5.18kB/s]"
     }
    },
    "3dfc3ee445f2403a8ed7b4e6f5a8b3d3": {
     "model_module": "@jupyter-widgets/controls",
     "model_module_version": "1.5.0",
     "model_name": "ProgressStyleModel",
     "state": {
      "_model_module": "@jupyter-widgets/controls",
      "_model_module_version": "1.5.0",
      "_model_name": "ProgressStyleModel",
      "_view_count": null,
      "_view_module": "@jupyter-widgets/base",
      "_view_module_version": "1.2.0",
      "_view_name": "StyleView",
      "bar_color": null,
      "description_width": ""
     }
    },
    "43eb8a62436a4c149e25f98f49a7c68d": {
     "model_module": "@jupyter-widgets/controls",
     "model_module_version": "1.5.0",
     "model_name": "FloatProgressModel",
     "state": {
      "_dom_classes": [],
      "_model_module": "@jupyter-widgets/controls",
      "_model_module_version": "1.5.0",
      "_model_name": "FloatProgressModel",
      "_view_count": null,
      "_view_module": "@jupyter-widgets/controls",
      "_view_module_version": "1.5.0",
      "_view_name": "ProgressView",
      "bar_style": "success",
      "description": "",
      "description_tooltip": null,
      "layout": "IPY_MODEL_7942944ae43141c0aa83ec76fc0deafa",
      "max": 299,
      "min": 0,
      "orientation": "horizontal",
      "style": "IPY_MODEL_5d2efc2c1758475c9d1cd51cdc7edf0a",
      "value": 299
     }
    },
    "45b7612393254fe19709bdae7d7bbbe6": {
     "model_module": "@jupyter-widgets/controls",
     "model_module_version": "1.5.0",
     "model_name": "ProgressStyleModel",
     "state": {
      "_model_module": "@jupyter-widgets/controls",
      "_model_module_version": "1.5.0",
      "_model_name": "ProgressStyleModel",
      "_view_count": null,
      "_view_module": "@jupyter-widgets/base",
      "_view_module_version": "1.2.0",
      "_view_name": "StyleView",
      "bar_color": null,
      "description_width": ""
     }
    },
    "4656eb21ff2245b7be51f82c1e2c7e6b": {
     "model_module": "@jupyter-widgets/controls",
     "model_module_version": "1.5.0",
     "model_name": "HBoxModel",
     "state": {
      "_dom_classes": [],
      "_model_module": "@jupyter-widgets/controls",
      "_model_module_version": "1.5.0",
      "_model_name": "HBoxModel",
      "_view_count": null,
      "_view_module": "@jupyter-widgets/controls",
      "_view_module_version": "1.5.0",
      "_view_name": "HBoxView",
      "box_style": "",
      "children": [
       "IPY_MODEL_2af599ea5c3d4874aff863303c5b5703",
       "IPY_MODEL_c64b940afcc94ee3b2b88c582b54d97f",
       "IPY_MODEL_8a798f3e801d47df8771840991f7cfa3"
      ],
      "layout": "IPY_MODEL_ab8f5f020c76459aad12d4cab6a36a72"
     }
    },
    "5d2efc2c1758475c9d1cd51cdc7edf0a": {
     "model_module": "@jupyter-widgets/controls",
     "model_module_version": "1.5.0",
     "model_name": "ProgressStyleModel",
     "state": {
      "_model_module": "@jupyter-widgets/controls",
      "_model_module_version": "1.5.0",
      "_model_name": "ProgressStyleModel",
      "_view_count": null,
      "_view_module": "@jupyter-widgets/base",
      "_view_module_version": "1.2.0",
      "_view_name": "StyleView",
      "bar_color": null,
      "description_width": ""
     }
    },
    "5e02a09e9fe24718a8f1f4167c42d099": {
     "model_module": "@jupyter-widgets/controls",
     "model_module_version": "1.5.0",
     "model_name": "DescriptionStyleModel",
     "state": {
      "_model_module": "@jupyter-widgets/controls",
      "_model_module_version": "1.5.0",
      "_model_name": "DescriptionStyleModel",
      "_view_count": null,
      "_view_module": "@jupyter-widgets/base",
      "_view_module_version": "1.2.0",
      "_view_name": "StyleView",
      "description_width": ""
     }
    },
    "70f68856bdb64c30aa57e6046468b3d6": {
     "model_module": "@jupyter-widgets/controls",
     "model_module_version": "1.5.0",
     "model_name": "ProgressStyleModel",
     "state": {
      "_model_module": "@jupyter-widgets/controls",
      "_model_module_version": "1.5.0",
      "_model_name": "ProgressStyleModel",
      "_view_count": null,
      "_view_module": "@jupyter-widgets/base",
      "_view_module_version": "1.2.0",
      "_view_name": "StyleView",
      "bar_color": null,
      "description_width": ""
     }
    },
    "7942944ae43141c0aa83ec76fc0deafa": {
     "model_module": "@jupyter-widgets/base",
     "model_module_version": "1.2.0",
     "model_name": "LayoutModel",
     "state": {
      "_model_module": "@jupyter-widgets/base",
      "_model_module_version": "1.2.0",
      "_model_name": "LayoutModel",
      "_view_count": null,
      "_view_module": "@jupyter-widgets/base",
      "_view_module_version": "1.2.0",
      "_view_name": "LayoutView",
      "align_content": null,
      "align_items": null,
      "align_self": null,
      "border": null,
      "bottom": null,
      "display": null,
      "flex": null,
      "flex_flow": null,
      "grid_area": null,
      "grid_auto_columns": null,
      "grid_auto_flow": null,
      "grid_auto_rows": null,
      "grid_column": null,
      "grid_gap": null,
      "grid_row": null,
      "grid_template_areas": null,
      "grid_template_columns": null,
      "grid_template_rows": null,
      "height": null,
      "justify_content": null,
      "justify_items": null,
      "left": null,
      "margin": null,
      "max_height": null,
      "max_width": null,
      "min_height": null,
      "min_width": null,
      "object_fit": null,
      "object_position": null,
      "order": null,
      "overflow": null,
      "overflow_x": null,
      "overflow_y": null,
      "padding": null,
      "right": null,
      "top": null,
      "visibility": null,
      "width": null
     }
    },
    "7d3ff64481b64406aadb34439d2ad02b": {
     "model_module": "@jupyter-widgets/controls",
     "model_module_version": "1.5.0",
     "model_name": "DescriptionStyleModel",
     "state": {
      "_model_module": "@jupyter-widgets/controls",
      "_model_module_version": "1.5.0",
      "_model_name": "DescriptionStyleModel",
      "_view_count": null,
      "_view_module": "@jupyter-widgets/base",
      "_view_module_version": "1.2.0",
      "_view_name": "StyleView",
      "description_width": ""
     }
    },
    "7d77d8f8c129400d9f61b60da03891b3": {
     "model_module": "@jupyter-widgets/controls",
     "model_module_version": "1.5.0",
     "model_name": "HBoxModel",
     "state": {
      "_dom_classes": [],
      "_model_module": "@jupyter-widgets/controls",
      "_model_module_version": "1.5.0",
      "_model_name": "HBoxModel",
      "_view_count": null,
      "_view_module": "@jupyter-widgets/controls",
      "_view_module_version": "1.5.0",
      "_view_name": "HBoxView",
      "box_style": "",
      "children": [
       "IPY_MODEL_98efd1135c4f438c8b8dd5c130cc667c",
       "IPY_MODEL_9aca8f0c4013472c8514d2d57f9ea3e8",
       "IPY_MODEL_807b39071d354a1ab7af51a05f1ef3b1"
      ],
      "layout": "IPY_MODEL_971c955528914b05afe5d12e9c626cf1"
     }
    },
    "8039ef2f59ee482781f325f5a91b93e8": {
     "model_module": "@jupyter-widgets/base",
     "model_module_version": "1.2.0",
     "model_name": "LayoutModel",
     "state": {
      "_model_module": "@jupyter-widgets/base",
      "_model_module_version": "1.2.0",
      "_model_name": "LayoutModel",
      "_view_count": null,
      "_view_module": "@jupyter-widgets/base",
      "_view_module_version": "1.2.0",
      "_view_name": "LayoutView",
      "align_content": null,
      "align_items": null,
      "align_self": null,
      "border": null,
      "bottom": null,
      "display": null,
      "flex": null,
      "flex_flow": null,
      "grid_area": null,
      "grid_auto_columns": null,
      "grid_auto_flow": null,
      "grid_auto_rows": null,
      "grid_column": null,
      "grid_gap": null,
      "grid_row": null,
      "grid_template_areas": null,
      "grid_template_columns": null,
      "grid_template_rows": null,
      "height": null,
      "justify_content": null,
      "justify_items": null,
      "left": null,
      "margin": null,
      "max_height": null,
      "max_width": null,
      "min_height": null,
      "min_width": null,
      "object_fit": null,
      "object_position": null,
      "order": null,
      "overflow": null,
      "overflow_x": null,
      "overflow_y": null,
      "padding": null,
      "right": null,
      "top": null,
      "visibility": null,
      "width": null
     }
    },
    "807b39071d354a1ab7af51a05f1ef3b1": {
     "model_module": "@jupyter-widgets/controls",
     "model_module_version": "1.5.0",
     "model_name": "HTMLModel",
     "state": {
      "_dom_classes": [],
      "_model_module": "@jupyter-widgets/controls",
      "_model_module_version": "1.5.0",
      "_model_name": "HTMLModel",
      "_view_count": null,
      "_view_module": "@jupyter-widgets/controls",
      "_view_module_version": "1.5.0",
      "_view_name": "HTMLView",
      "description": "",
      "description_tooltip": null,
      "layout": "IPY_MODEL_fc6b1e6a0e254b82b6c7277f10a5d542",
      "placeholder": "​",
      "style": "IPY_MODEL_5e02a09e9fe24718a8f1f4167c42d099",
      "value": " 112/112 [00:00&lt;00:00, 2.56kB/s]"
     }
    },
    "8a60b779e7d749d284b791b9e5126a62": {
     "model_module": "@jupyter-widgets/controls",
     "model_module_version": "1.5.0",
     "model_name": "FloatProgressModel",
     "state": {
      "_dom_classes": [],
      "_model_module": "@jupyter-widgets/controls",
      "_model_module_version": "1.5.0",
      "_model_name": "FloatProgressModel",
      "_view_count": null,
      "_view_module": "@jupyter-widgets/controls",
      "_view_module_version": "1.5.0",
      "_view_name": "ProgressView",
      "bar_style": "success",
      "description": "",
      "description_tooltip": null,
      "layout": "IPY_MODEL_0c234fac6d10482089dacd2c03a5bbde",
      "max": 231508,
      "min": 0,
      "orientation": "horizontal",
      "style": "IPY_MODEL_70f68856bdb64c30aa57e6046468b3d6",
      "value": 231508
     }
    },
    "8a798f3e801d47df8771840991f7cfa3": {
     "model_module": "@jupyter-widgets/controls",
     "model_module_version": "1.5.0",
     "model_name": "HTMLModel",
     "state": {
      "_dom_classes": [],
      "_model_module": "@jupyter-widgets/controls",
      "_model_module_version": "1.5.0",
      "_model_name": "HTMLModel",
      "_view_count": null,
      "_view_module": "@jupyter-widgets/controls",
      "_view_module_version": "1.5.0",
      "_view_name": "HTMLView",
      "description": "",
      "description_tooltip": null,
      "layout": "IPY_MODEL_047bcb706b304be09200793be7524708",
      "placeholder": "​",
      "style": "IPY_MODEL_c4792815ec0d4591bcaea2e7a0539e6b",
      "value": " 790/790 [00:00&lt;00:00, 14.6kB/s]"
     }
    },
    "8aa487d37b284b2ba88903923a0086d9": {
     "model_module": "@jupyter-widgets/controls",
     "model_module_version": "1.5.0",
     "model_name": "HTMLModel",
     "state": {
      "_dom_classes": [],
      "_model_module": "@jupyter-widgets/controls",
      "_model_module_version": "1.5.0",
      "_model_name": "HTMLModel",
      "_view_count": null,
      "_view_module": "@jupyter-widgets/controls",
      "_view_module_version": "1.5.0",
      "_view_name": "HTMLView",
      "description": "",
      "description_tooltip": null,
      "layout": "IPY_MODEL_ee76f1517ed64f4fa49d998d2448f9c2",
      "placeholder": "​",
      "style": "IPY_MODEL_e88a61936e0949c490366d0619869b6c",
      "value": "Downloading: 100%"
     }
    },
    "971c955528914b05afe5d12e9c626cf1": {
     "model_module": "@jupyter-widgets/base",
     "model_module_version": "1.2.0",
     "model_name": "LayoutModel",
     "state": {
      "_model_module": "@jupyter-widgets/base",
      "_model_module_version": "1.2.0",
      "_model_name": "LayoutModel",
      "_view_count": null,
      "_view_module": "@jupyter-widgets/base",
      "_view_module_version": "1.2.0",
      "_view_name": "LayoutView",
      "align_content": null,
      "align_items": null,
      "align_self": null,
      "border": null,
      "bottom": null,
      "display": null,
      "flex": null,
      "flex_flow": null,
      "grid_area": null,
      "grid_auto_columns": null,
      "grid_auto_flow": null,
      "grid_auto_rows": null,
      "grid_column": null,
      "grid_gap": null,
      "grid_row": null,
      "grid_template_areas": null,
      "grid_template_columns": null,
      "grid_template_rows": null,
      "height": null,
      "justify_content": null,
      "justify_items": null,
      "left": null,
      "margin": null,
      "max_height": null,
      "max_width": null,
      "min_height": null,
      "min_width": null,
      "object_fit": null,
      "object_position": null,
      "order": null,
      "overflow": null,
      "overflow_x": null,
      "overflow_y": null,
      "padding": null,
      "right": null,
      "top": null,
      "visibility": null,
      "width": null
     }
    },
    "98efd1135c4f438c8b8dd5c130cc667c": {
     "model_module": "@jupyter-widgets/controls",
     "model_module_version": "1.5.0",
     "model_name": "HTMLModel",
     "state": {
      "_dom_classes": [],
      "_model_module": "@jupyter-widgets/controls",
      "_model_module_version": "1.5.0",
      "_model_name": "HTMLModel",
      "_view_count": null,
      "_view_module": "@jupyter-widgets/controls",
      "_view_module_version": "1.5.0",
      "_view_name": "HTMLView",
      "description": "",
      "description_tooltip": null,
      "layout": "IPY_MODEL_b575b556bb9445ceb5c662b9d224e171",
      "placeholder": "​",
      "style": "IPY_MODEL_acd4639a73904507b7884adc96512dc5",
      "value": "Downloading: 100%"
     }
    },
    "9aca8f0c4013472c8514d2d57f9ea3e8": {
     "model_module": "@jupyter-widgets/controls",
     "model_module_version": "1.5.0",
     "model_name": "FloatProgressModel",
     "state": {
      "_dom_classes": [],
      "_model_module": "@jupyter-widgets/controls",
      "_model_module_version": "1.5.0",
      "_model_name": "FloatProgressModel",
      "_view_count": null,
      "_view_module": "@jupyter-widgets/controls",
      "_view_module_version": "1.5.0",
      "_view_name": "ProgressView",
      "bar_style": "success",
      "description": "",
      "description_tooltip": null,
      "layout": "IPY_MODEL_d2803d4a8a794a83a2ebcf61ce3097ff",
      "max": 112,
      "min": 0,
      "orientation": "horizontal",
      "style": "IPY_MODEL_f9a30d0d10744d14a47b500251c1973c",
      "value": 112
     }
    },
    "9e9b4804607046678d3d132528486b0b": {
     "model_module": "@jupyter-widgets/controls",
     "model_module_version": "1.5.0",
     "model_name": "DescriptionStyleModel",
     "state": {
      "_model_module": "@jupyter-widgets/controls",
      "_model_module_version": "1.5.0",
      "_model_name": "DescriptionStyleModel",
      "_view_count": null,
      "_view_module": "@jupyter-widgets/base",
      "_view_module_version": "1.2.0",
      "_view_name": "StyleView",
      "description_width": ""
     }
    },
    "ab8f5f020c76459aad12d4cab6a36a72": {
     "model_module": "@jupyter-widgets/base",
     "model_module_version": "1.2.0",
     "model_name": "LayoutModel",
     "state": {
      "_model_module": "@jupyter-widgets/base",
      "_model_module_version": "1.2.0",
      "_model_name": "LayoutModel",
      "_view_count": null,
      "_view_module": "@jupyter-widgets/base",
      "_view_module_version": "1.2.0",
      "_view_name": "LayoutView",
      "align_content": null,
      "align_items": null,
      "align_self": null,
      "border": null,
      "bottom": null,
      "display": null,
      "flex": null,
      "flex_flow": null,
      "grid_area": null,
      "grid_auto_columns": null,
      "grid_auto_flow": null,
      "grid_auto_rows": null,
      "grid_column": null,
      "grid_gap": null,
      "grid_row": null,
      "grid_template_areas": null,
      "grid_template_columns": null,
      "grid_template_rows": null,
      "height": null,
      "justify_content": null,
      "justify_items": null,
      "left": null,
      "margin": null,
      "max_height": null,
      "max_width": null,
      "min_height": null,
      "min_width": null,
      "object_fit": null,
      "object_position": null,
      "order": null,
      "overflow": null,
      "overflow_x": null,
      "overflow_y": null,
      "padding": null,
      "right": null,
      "top": null,
      "visibility": null,
      "width": null
     }
    },
    "acd4639a73904507b7884adc96512dc5": {
     "model_module": "@jupyter-widgets/controls",
     "model_module_version": "1.5.0",
     "model_name": "DescriptionStyleModel",
     "state": {
      "_model_module": "@jupyter-widgets/controls",
      "_model_module_version": "1.5.0",
      "_model_name": "DescriptionStyleModel",
      "_view_count": null,
      "_view_module": "@jupyter-widgets/base",
      "_view_module_version": "1.2.0",
      "_view_name": "StyleView",
      "description_width": ""
     }
    },
    "b3ba42a7365d418f9cbf7f68ede3b65a": {
     "model_module": "@jupyter-widgets/controls",
     "model_module_version": "1.5.0",
     "model_name": "FloatProgressModel",
     "state": {
      "_dom_classes": [],
      "_model_module": "@jupyter-widgets/controls",
      "_model_module_version": "1.5.0",
      "_model_name": "FloatProgressModel",
      "_view_count": null,
      "_view_module": "@jupyter-widgets/controls",
      "_view_module_version": "1.5.0",
      "_view_name": "ProgressView",
      "bar_style": "success",
      "description": "",
      "description_tooltip": null,
      "layout": "IPY_MODEL_d12cbe52662546d1be82cfd4536dfdfc",
      "max": 437996231,
      "min": 0,
      "orientation": "horizontal",
      "style": "IPY_MODEL_45b7612393254fe19709bdae7d7bbbe6",
      "value": 437996231
     }
    },
    "b473e96d36604d71ae5d3d8e69cc01c3": {
     "model_module": "@jupyter-widgets/base",
     "model_module_version": "1.2.0",
     "model_name": "LayoutModel",
     "state": {
      "_model_module": "@jupyter-widgets/base",
      "_model_module_version": "1.2.0",
      "_model_name": "LayoutModel",
      "_view_count": null,
      "_view_module": "@jupyter-widgets/base",
      "_view_module_version": "1.2.0",
      "_view_name": "LayoutView",
      "align_content": null,
      "align_items": null,
      "align_self": null,
      "border": null,
      "bottom": null,
      "display": null,
      "flex": null,
      "flex_flow": null,
      "grid_area": null,
      "grid_auto_columns": null,
      "grid_auto_flow": null,
      "grid_auto_rows": null,
      "grid_column": null,
      "grid_gap": null,
      "grid_row": null,
      "grid_template_areas": null,
      "grid_template_columns": null,
      "grid_template_rows": null,
      "height": null,
      "justify_content": null,
      "justify_items": null,
      "left": null,
      "margin": null,
      "max_height": null,
      "max_width": null,
      "min_height": null,
      "min_width": null,
      "object_fit": null,
      "object_position": null,
      "order": null,
      "overflow": null,
      "overflow_x": null,
      "overflow_y": null,
      "padding": null,
      "right": null,
      "top": null,
      "visibility": null,
      "width": null
     }
    },
    "b575b556bb9445ceb5c662b9d224e171": {
     "model_module": "@jupyter-widgets/base",
     "model_module_version": "1.2.0",
     "model_name": "LayoutModel",
     "state": {
      "_model_module": "@jupyter-widgets/base",
      "_model_module_version": "1.2.0",
      "_model_name": "LayoutModel",
      "_view_count": null,
      "_view_module": "@jupyter-widgets/base",
      "_view_module_version": "1.2.0",
      "_view_name": "LayoutView",
      "align_content": null,
      "align_items": null,
      "align_self": null,
      "border": null,
      "bottom": null,
      "display": null,
      "flex": null,
      "flex_flow": null,
      "grid_area": null,
      "grid_auto_columns": null,
      "grid_auto_flow": null,
      "grid_auto_rows": null,
      "grid_column": null,
      "grid_gap": null,
      "grid_row": null,
      "grid_template_areas": null,
      "grid_template_columns": null,
      "grid_template_rows": null,
      "height": null,
      "justify_content": null,
      "justify_items": null,
      "left": null,
      "margin": null,
      "max_height": null,
      "max_width": null,
      "min_height": null,
      "min_width": null,
      "object_fit": null,
      "object_position": null,
      "order": null,
      "overflow": null,
      "overflow_x": null,
      "overflow_y": null,
      "padding": null,
      "right": null,
      "top": null,
      "visibility": null,
      "width": null
     }
    },
    "b8b44bed109443fd9bba63a7039f3c93": {
     "model_module": "@jupyter-widgets/controls",
     "model_module_version": "1.5.0",
     "model_name": "DescriptionStyleModel",
     "state": {
      "_model_module": "@jupyter-widgets/controls",
      "_model_module_version": "1.5.0",
      "_model_name": "DescriptionStyleModel",
      "_view_count": null,
      "_view_module": "@jupyter-widgets/base",
      "_view_module_version": "1.2.0",
      "_view_name": "StyleView",
      "description_width": ""
     }
    },
    "bf38f0560d3e493ca2b97fd974d00462": {
     "model_module": "@jupyter-widgets/controls",
     "model_module_version": "1.5.0",
     "model_name": "HTMLModel",
     "state": {
      "_dom_classes": [],
      "_model_module": "@jupyter-widgets/controls",
      "_model_module_version": "1.5.0",
      "_model_name": "HTMLModel",
      "_view_count": null,
      "_view_module": "@jupyter-widgets/controls",
      "_view_module_version": "1.5.0",
      "_view_name": "HTMLView",
      "description": "",
      "description_tooltip": null,
      "layout": "IPY_MODEL_feb0fac998144444bfd9373ce537bbc3",
      "placeholder": "​",
      "style": "IPY_MODEL_7d3ff64481b64406aadb34439d2ad02b",
      "value": "Downloading: 100%"
     }
    },
    "c26d9b9e910a43febfd588927c3e7756": {
     "model_module": "@jupyter-widgets/controls",
     "model_module_version": "1.5.0",
     "model_name": "DescriptionStyleModel",
     "state": {
      "_model_module": "@jupyter-widgets/controls",
      "_model_module_version": "1.5.0",
      "_model_name": "DescriptionStyleModel",
      "_view_count": null,
      "_view_module": "@jupyter-widgets/base",
      "_view_module_version": "1.2.0",
      "_view_name": "StyleView",
      "description_width": ""
     }
    },
    "c3df12951362451685bea68b7091c69f": {
     "model_module": "@jupyter-widgets/base",
     "model_module_version": "1.2.0",
     "model_name": "LayoutModel",
     "state": {
      "_model_module": "@jupyter-widgets/base",
      "_model_module_version": "1.2.0",
      "_model_name": "LayoutModel",
      "_view_count": null,
      "_view_module": "@jupyter-widgets/base",
      "_view_module_version": "1.2.0",
      "_view_name": "LayoutView",
      "align_content": null,
      "align_items": null,
      "align_self": null,
      "border": null,
      "bottom": null,
      "display": null,
      "flex": null,
      "flex_flow": null,
      "grid_area": null,
      "grid_auto_columns": null,
      "grid_auto_flow": null,
      "grid_auto_rows": null,
      "grid_column": null,
      "grid_gap": null,
      "grid_row": null,
      "grid_template_areas": null,
      "grid_template_columns": null,
      "grid_template_rows": null,
      "height": null,
      "justify_content": null,
      "justify_items": null,
      "left": null,
      "margin": null,
      "max_height": null,
      "max_width": null,
      "min_height": null,
      "min_width": null,
      "object_fit": null,
      "object_position": null,
      "order": null,
      "overflow": null,
      "overflow_x": null,
      "overflow_y": null,
      "padding": null,
      "right": null,
      "top": null,
      "visibility": null,
      "width": null
     }
    },
    "c4792815ec0d4591bcaea2e7a0539e6b": {
     "model_module": "@jupyter-widgets/controls",
     "model_module_version": "1.5.0",
     "model_name": "DescriptionStyleModel",
     "state": {
      "_model_module": "@jupyter-widgets/controls",
      "_model_module_version": "1.5.0",
      "_model_name": "DescriptionStyleModel",
      "_view_count": null,
      "_view_module": "@jupyter-widgets/base",
      "_view_module_version": "1.2.0",
      "_view_name": "StyleView",
      "description_width": ""
     }
    },
    "c64b940afcc94ee3b2b88c582b54d97f": {
     "model_module": "@jupyter-widgets/controls",
     "model_module_version": "1.5.0",
     "model_name": "FloatProgressModel",
     "state": {
      "_dom_classes": [],
      "_model_module": "@jupyter-widgets/controls",
      "_model_module_version": "1.5.0",
      "_model_name": "FloatProgressModel",
      "_view_count": null,
      "_view_module": "@jupyter-widgets/controls",
      "_view_module_version": "1.5.0",
      "_view_name": "ProgressView",
      "bar_style": "success",
      "description": "",
      "description_tooltip": null,
      "layout": "IPY_MODEL_e35113cc44f34a1fbb22f109f49f7bdd",
      "max": 790,
      "min": 0,
      "orientation": "horizontal",
      "style": "IPY_MODEL_3dfc3ee445f2403a8ed7b4e6f5a8b3d3",
      "value": 790
     }
    },
    "c7e4cea875eb41c8950f97350c237730": {
     "model_module": "@jupyter-widgets/controls",
     "model_module_version": "1.5.0",
     "model_name": "HTMLModel",
     "state": {
      "_dom_classes": [],
      "_model_module": "@jupyter-widgets/controls",
      "_model_module_version": "1.5.0",
      "_model_name": "HTMLModel",
      "_view_count": null,
      "_view_module": "@jupyter-widgets/controls",
      "_view_module_version": "1.5.0",
      "_view_name": "HTMLView",
      "description": "",
      "description_tooltip": null,
      "layout": "IPY_MODEL_d7abb004da9d42b787717cfdb3657f4e",
      "placeholder": "​",
      "style": "IPY_MODEL_ee89c9881c75441fbc9ec827d623134e",
      "value": " 418M/418M [00:11&lt;00:00, 37.0MB/s]"
     }
    },
    "d12cbe52662546d1be82cfd4536dfdfc": {
     "model_module": "@jupyter-widgets/base",
     "model_module_version": "1.2.0",
     "model_name": "LayoutModel",
     "state": {
      "_model_module": "@jupyter-widgets/base",
      "_model_module_version": "1.2.0",
      "_model_name": "LayoutModel",
      "_view_count": null,
      "_view_module": "@jupyter-widgets/base",
      "_view_module_version": "1.2.0",
      "_view_name": "LayoutView",
      "align_content": null,
      "align_items": null,
      "align_self": null,
      "border": null,
      "bottom": null,
      "display": null,
      "flex": null,
      "flex_flow": null,
      "grid_area": null,
      "grid_auto_columns": null,
      "grid_auto_flow": null,
      "grid_auto_rows": null,
      "grid_column": null,
      "grid_gap": null,
      "grid_row": null,
      "grid_template_areas": null,
      "grid_template_columns": null,
      "grid_template_rows": null,
      "height": null,
      "justify_content": null,
      "justify_items": null,
      "left": null,
      "margin": null,
      "max_height": null,
      "max_width": null,
      "min_height": null,
      "min_width": null,
      "object_fit": null,
      "object_position": null,
      "order": null,
      "overflow": null,
      "overflow_x": null,
      "overflow_y": null,
      "padding": null,
      "right": null,
      "top": null,
      "visibility": null,
      "width": null
     }
    },
    "d2803d4a8a794a83a2ebcf61ce3097ff": {
     "model_module": "@jupyter-widgets/base",
     "model_module_version": "1.2.0",
     "model_name": "LayoutModel",
     "state": {
      "_model_module": "@jupyter-widgets/base",
      "_model_module_version": "1.2.0",
      "_model_name": "LayoutModel",
      "_view_count": null,
      "_view_module": "@jupyter-widgets/base",
      "_view_module_version": "1.2.0",
      "_view_name": "LayoutView",
      "align_content": null,
      "align_items": null,
      "align_self": null,
      "border": null,
      "bottom": null,
      "display": null,
      "flex": null,
      "flex_flow": null,
      "grid_area": null,
      "grid_auto_columns": null,
      "grid_auto_flow": null,
      "grid_auto_rows": null,
      "grid_column": null,
      "grid_gap": null,
      "grid_row": null,
      "grid_template_areas": null,
      "grid_template_columns": null,
      "grid_template_rows": null,
      "height": null,
      "justify_content": null,
      "justify_items": null,
      "left": null,
      "margin": null,
      "max_height": null,
      "max_width": null,
      "min_height": null,
      "min_width": null,
      "object_fit": null,
      "object_position": null,
      "order": null,
      "overflow": null,
      "overflow_x": null,
      "overflow_y": null,
      "padding": null,
      "right": null,
      "top": null,
      "visibility": null,
      "width": null
     }
    },
    "d57bc505733b4c738cf84db24feba360": {
     "model_module": "@jupyter-widgets/base",
     "model_module_version": "1.2.0",
     "model_name": "LayoutModel",
     "state": {
      "_model_module": "@jupyter-widgets/base",
      "_model_module_version": "1.2.0",
      "_model_name": "LayoutModel",
      "_view_count": null,
      "_view_module": "@jupyter-widgets/base",
      "_view_module_version": "1.2.0",
      "_view_name": "LayoutView",
      "align_content": null,
      "align_items": null,
      "align_self": null,
      "border": null,
      "bottom": null,
      "display": null,
      "flex": null,
      "flex_flow": null,
      "grid_area": null,
      "grid_auto_columns": null,
      "grid_auto_flow": null,
      "grid_auto_rows": null,
      "grid_column": null,
      "grid_gap": null,
      "grid_row": null,
      "grid_template_areas": null,
      "grid_template_columns": null,
      "grid_template_rows": null,
      "height": null,
      "justify_content": null,
      "justify_items": null,
      "left": null,
      "margin": null,
      "max_height": null,
      "max_width": null,
      "min_height": null,
      "min_width": null,
      "object_fit": null,
      "object_position": null,
      "order": null,
      "overflow": null,
      "overflow_x": null,
      "overflow_y": null,
      "padding": null,
      "right": null,
      "top": null,
      "visibility": null,
      "width": null
     }
    },
    "d7abb004da9d42b787717cfdb3657f4e": {
     "model_module": "@jupyter-widgets/base",
     "model_module_version": "1.2.0",
     "model_name": "LayoutModel",
     "state": {
      "_model_module": "@jupyter-widgets/base",
      "_model_module_version": "1.2.0",
      "_model_name": "LayoutModel",
      "_view_count": null,
      "_view_module": "@jupyter-widgets/base",
      "_view_module_version": "1.2.0",
      "_view_name": "LayoutView",
      "align_content": null,
      "align_items": null,
      "align_self": null,
      "border": null,
      "bottom": null,
      "display": null,
      "flex": null,
      "flex_flow": null,
      "grid_area": null,
      "grid_auto_columns": null,
      "grid_auto_flow": null,
      "grid_auto_rows": null,
      "grid_column": null,
      "grid_gap": null,
      "grid_row": null,
      "grid_template_areas": null,
      "grid_template_columns": null,
      "grid_template_rows": null,
      "height": null,
      "justify_content": null,
      "justify_items": null,
      "left": null,
      "margin": null,
      "max_height": null,
      "max_width": null,
      "min_height": null,
      "min_width": null,
      "object_fit": null,
      "object_position": null,
      "order": null,
      "overflow": null,
      "overflow_x": null,
      "overflow_y": null,
      "padding": null,
      "right": null,
      "top": null,
      "visibility": null,
      "width": null
     }
    },
    "e35113cc44f34a1fbb22f109f49f7bdd": {
     "model_module": "@jupyter-widgets/base",
     "model_module_version": "1.2.0",
     "model_name": "LayoutModel",
     "state": {
      "_model_module": "@jupyter-widgets/base",
      "_model_module_version": "1.2.0",
      "_model_name": "LayoutModel",
      "_view_count": null,
      "_view_module": "@jupyter-widgets/base",
      "_view_module_version": "1.2.0",
      "_view_name": "LayoutView",
      "align_content": null,
      "align_items": null,
      "align_self": null,
      "border": null,
      "bottom": null,
      "display": null,
      "flex": null,
      "flex_flow": null,
      "grid_area": null,
      "grid_auto_columns": null,
      "grid_auto_flow": null,
      "grid_auto_rows": null,
      "grid_column": null,
      "grid_gap": null,
      "grid_row": null,
      "grid_template_areas": null,
      "grid_template_columns": null,
      "grid_template_rows": null,
      "height": null,
      "justify_content": null,
      "justify_items": null,
      "left": null,
      "margin": null,
      "max_height": null,
      "max_width": null,
      "min_height": null,
      "min_width": null,
      "object_fit": null,
      "object_position": null,
      "order": null,
      "overflow": null,
      "overflow_x": null,
      "overflow_y": null,
      "padding": null,
      "right": null,
      "top": null,
      "visibility": null,
      "width": null
     }
    },
    "e567a77fb29d47c98fe19c440b2d31e8": {
     "model_module": "@jupyter-widgets/base",
     "model_module_version": "1.2.0",
     "model_name": "LayoutModel",
     "state": {
      "_model_module": "@jupyter-widgets/base",
      "_model_module_version": "1.2.0",
      "_model_name": "LayoutModel",
      "_view_count": null,
      "_view_module": "@jupyter-widgets/base",
      "_view_module_version": "1.2.0",
      "_view_name": "LayoutView",
      "align_content": null,
      "align_items": null,
      "align_self": null,
      "border": null,
      "bottom": null,
      "display": null,
      "flex": null,
      "flex_flow": null,
      "grid_area": null,
      "grid_auto_columns": null,
      "grid_auto_flow": null,
      "grid_auto_rows": null,
      "grid_column": null,
      "grid_gap": null,
      "grid_row": null,
      "grid_template_areas": null,
      "grid_template_columns": null,
      "grid_template_rows": null,
      "height": null,
      "justify_content": null,
      "justify_items": null,
      "left": null,
      "margin": null,
      "max_height": null,
      "max_width": null,
      "min_height": null,
      "min_width": null,
      "object_fit": null,
      "object_position": null,
      "order": null,
      "overflow": null,
      "overflow_x": null,
      "overflow_y": null,
      "padding": null,
      "right": null,
      "top": null,
      "visibility": null,
      "width": null
     }
    },
    "e67ba177d3744ea4bcc652774cd13abd": {
     "model_module": "@jupyter-widgets/controls",
     "model_module_version": "1.5.0",
     "model_name": "HTMLModel",
     "state": {
      "_dom_classes": [],
      "_model_module": "@jupyter-widgets/controls",
      "_model_module_version": "1.5.0",
      "_model_name": "HTMLModel",
      "_view_count": null,
      "_view_module": "@jupyter-widgets/controls",
      "_view_module_version": "1.5.0",
      "_view_name": "HTMLView",
      "description": "",
      "description_tooltip": null,
      "layout": "IPY_MODEL_e567a77fb29d47c98fe19c440b2d31e8",
      "placeholder": "​",
      "style": "IPY_MODEL_9e9b4804607046678d3d132528486b0b",
      "value": "Downloading: 100%"
     }
    },
    "e88a61936e0949c490366d0619869b6c": {
     "model_module": "@jupyter-widgets/controls",
     "model_module_version": "1.5.0",
     "model_name": "DescriptionStyleModel",
     "state": {
      "_model_module": "@jupyter-widgets/controls",
      "_model_module_version": "1.5.0",
      "_model_name": "DescriptionStyleModel",
      "_view_count": null,
      "_view_module": "@jupyter-widgets/base",
      "_view_module_version": "1.2.0",
      "_view_name": "StyleView",
      "description_width": ""
     }
    },
    "ee76f1517ed64f4fa49d998d2448f9c2": {
     "model_module": "@jupyter-widgets/base",
     "model_module_version": "1.2.0",
     "model_name": "LayoutModel",
     "state": {
      "_model_module": "@jupyter-widgets/base",
      "_model_module_version": "1.2.0",
      "_model_name": "LayoutModel",
      "_view_count": null,
      "_view_module": "@jupyter-widgets/base",
      "_view_module_version": "1.2.0",
      "_view_name": "LayoutView",
      "align_content": null,
      "align_items": null,
      "align_self": null,
      "border": null,
      "bottom": null,
      "display": null,
      "flex": null,
      "flex_flow": null,
      "grid_area": null,
      "grid_auto_columns": null,
      "grid_auto_flow": null,
      "grid_auto_rows": null,
      "grid_column": null,
      "grid_gap": null,
      "grid_row": null,
      "grid_template_areas": null,
      "grid_template_columns": null,
      "grid_template_rows": null,
      "height": null,
      "justify_content": null,
      "justify_items": null,
      "left": null,
      "margin": null,
      "max_height": null,
      "max_width": null,
      "min_height": null,
      "min_width": null,
      "object_fit": null,
      "object_position": null,
      "order": null,
      "overflow": null,
      "overflow_x": null,
      "overflow_y": null,
      "padding": null,
      "right": null,
      "top": null,
      "visibility": null,
      "width": null
     }
    },
    "ee89c9881c75441fbc9ec827d623134e": {
     "model_module": "@jupyter-widgets/controls",
     "model_module_version": "1.5.0",
     "model_name": "DescriptionStyleModel",
     "state": {
      "_model_module": "@jupyter-widgets/controls",
      "_model_module_version": "1.5.0",
      "_model_name": "DescriptionStyleModel",
      "_view_count": null,
      "_view_module": "@jupyter-widgets/base",
      "_view_module_version": "1.2.0",
      "_view_name": "StyleView",
      "description_width": ""
     }
    },
    "f9a30d0d10744d14a47b500251c1973c": {
     "model_module": "@jupyter-widgets/controls",
     "model_module_version": "1.5.0",
     "model_name": "ProgressStyleModel",
     "state": {
      "_model_module": "@jupyter-widgets/controls",
      "_model_module_version": "1.5.0",
      "_model_name": "ProgressStyleModel",
      "_view_count": null,
      "_view_module": "@jupyter-widgets/base",
      "_view_module_version": "1.2.0",
      "_view_name": "StyleView",
      "bar_color": null,
      "description_width": ""
     }
    },
    "fc6b1e6a0e254b82b6c7277f10a5d542": {
     "model_module": "@jupyter-widgets/base",
     "model_module_version": "1.2.0",
     "model_name": "LayoutModel",
     "state": {
      "_model_module": "@jupyter-widgets/base",
      "_model_module_version": "1.2.0",
      "_model_name": "LayoutModel",
      "_view_count": null,
      "_view_module": "@jupyter-widgets/base",
      "_view_module_version": "1.2.0",
      "_view_name": "LayoutView",
      "align_content": null,
      "align_items": null,
      "align_self": null,
      "border": null,
      "bottom": null,
      "display": null,
      "flex": null,
      "flex_flow": null,
      "grid_area": null,
      "grid_auto_columns": null,
      "grid_auto_flow": null,
      "grid_auto_rows": null,
      "grid_column": null,
      "grid_gap": null,
      "grid_row": null,
      "grid_template_areas": null,
      "grid_template_columns": null,
      "grid_template_rows": null,
      "height": null,
      "justify_content": null,
      "justify_items": null,
      "left": null,
      "margin": null,
      "max_height": null,
      "max_width": null,
      "min_height": null,
      "min_width": null,
      "object_fit": null,
      "object_position": null,
      "order": null,
      "overflow": null,
      "overflow_x": null,
      "overflow_y": null,
      "padding": null,
      "right": null,
      "top": null,
      "visibility": null,
      "width": null
     }
    },
    "feb0fac998144444bfd9373ce537bbc3": {
     "model_module": "@jupyter-widgets/base",
     "model_module_version": "1.2.0",
     "model_name": "LayoutModel",
     "state": {
      "_model_module": "@jupyter-widgets/base",
      "_model_module_version": "1.2.0",
      "_model_name": "LayoutModel",
      "_view_count": null,
      "_view_module": "@jupyter-widgets/base",
      "_view_module_version": "1.2.0",
      "_view_name": "LayoutView",
      "align_content": null,
      "align_items": null,
      "align_self": null,
      "border": null,
      "bottom": null,
      "display": null,
      "flex": null,
      "flex_flow": null,
      "grid_area": null,
      "grid_auto_columns": null,
      "grid_auto_flow": null,
      "grid_auto_rows": null,
      "grid_column": null,
      "grid_gap": null,
      "grid_row": null,
      "grid_template_areas": null,
      "grid_template_columns": null,
      "grid_template_rows": null,
      "height": null,
      "justify_content": null,
      "justify_items": null,
      "left": null,
      "margin": null,
      "max_height": null,
      "max_width": null,
      "min_height": null,
      "min_width": null,
      "object_fit": null,
      "object_position": null,
      "order": null,
      "overflow": null,
      "overflow_x": null,
      "overflow_y": null,
      "padding": null,
      "right": null,
      "top": null,
      "visibility": null,
      "width": null
     }
    }
   }
  }
 },
 "nbformat": 4,
 "nbformat_minor": 1
}
